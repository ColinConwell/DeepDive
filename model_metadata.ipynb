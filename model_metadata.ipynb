{
 "cells": [
  {
   "cell_type": "code",
   "execution_count": null,
   "metadata": {},
   "outputs": [],
   "source": [
    "import warnings; warnings.filterwarnings(\"ignore\")"
   ]
  },
  {
   "cell_type": "code",
   "execution_count": null,
   "metadata": {},
   "outputs": [],
   "source": [
    "from IPython.core.display import HTML; \n",
    "display(HTML(\"<style>.p-Widget.jp-OutputPrompt.jp-OutputArea-prompt:empty {padding: 0; border: 0;}</style>\"));"
   ]
  },
  {
   "cell_type": "code",
   "execution_count": null,
   "metadata": {},
   "outputs": [],
   "source": [
    "import os, sys\n",
    "import json, pickle\n",
    "\n",
    "import numpy as np\n",
    "import pandas as pd\n",
    "from copy import deepcopy\n",
    "from tqdm.auto import tqdm as tqdm"
   ]
  },
  {
   "cell_type": "code",
   "execution_count": null,
   "metadata": {},
   "outputs": [],
   "source": [
    "os.environ['CUDA_VISIBLE_DEVICES'] = ''"
   ]
  },
  {
   "cell_type": "code",
   "execution_count": null,
   "metadata": {},
   "outputs": [],
   "source": [
    "sys.path.append('../model_options')\n",
    "from feature_extraction import *\n",
    "from model_options import *"
   ]
  },
  {
   "cell_type": "code",
   "execution_count": null,
   "metadata": {},
   "outputs": [],
   "source": [
    "def count_parameters(model):\n",
    "    return sum(p.numel() for p in model.parameters() if p.requires_grad)"
   ]
  },
  {
   "cell_type": "markdown",
   "metadata": {},
   "source": [
    "### Model Metadata Build"
   ]
  },
  {
   "cell_type": "code",
   "execution_count": null,
   "metadata": {},
   "outputs": [],
   "source": [
    "model_options = get_model_options()"
   ]
  },
  {
   "cell_type": "code",
   "execution_count": null,
   "metadata": {},
   "outputs": [],
   "source": [
    "def get_model_metadata(model_string, output = 'model+layer'):\n",
    "    model_name = model_options[model_string]['model_name']\n",
    "    train_type = model_options[model_string]['train_type']\n",
    "    model = eval(model_options[model_string]['call'])\n",
    "    \n",
    "    model_metadata_dictlist = []\n",
    "    layer_metadata_dictlist = []\n",
    "    layer_metadata = get_feature_map_metadata(model)\n",
    "    layer_count = len(layer_metadata.keys())\n",
    "    layer_order = [model_layer for model_layer in layer_metadata]\n",
    "    feature_counts = [layer_metadata[layer]['feature_count'] for layer in layer_metadata]\n",
    "    parameter_counts = [layer_metadata[layer]['parameter_count'] for layer in layer_metadata]\n",
    "    feature_map_shapes = [layer_metadata[layer]['feature_map_shape'] for layer in layer_metadata]\n",
    "    total_feature_count = int(np.array(feature_counts).sum())\n",
    "    total_parameter_count = int(np.array(parameter_counts).sum())\n",
    "    model_metadata = {'total_feature_count': total_feature_count,\n",
    "                      'total_parameter_count': total_parameter_count,\n",
    "                      'layer_count': layer_count,\n",
    "                      'layer_metadata': layer_metadata}\n",
    "\n",
    "    model_metadata_dictlist.append({'model': model_name, \n",
    "                                    'train_type': train_type,\n",
    "                                    'layer_count': layer_count,\n",
    "                                    'total_feature_count': total_feature_count, \n",
    "                                    'total_parameter_count': total_parameter_count})\n",
    "\n",
    "    model_metadata_frame = pd.DataFrame(model_metadata_dictlist)\n",
    "\n",
    "    for layer_index, layer in enumerate(layer_metadata):\n",
    "        layer_metadata_dictlist.append({'model': model_name,\n",
    "                                        'train_type': train_type,\n",
    "                                        'model_layer': layer, \n",
    "                                        'model_layer_index': layer_index + 1,\n",
    "                                        'model_layer_depth': (layer_index + 1) / layer_count,\n",
    "                                        'feature_count': layer_metadata[layer]['feature_count'],\n",
    "                                        'parameter_count': layer_metadata[layer]['parameter_count']})\n",
    "\n",
    "    layer_metadata_frame = pd.DataFrame(layer_metadata_dictlist)\n",
    "\n",
    "    if output == 'json':\n",
    "        return model_metadata\n",
    "    if output == 'model_only':\n",
    "        return model_metadata_frame\n",
    "    if output == 'layer_only':\n",
    "        return layer_metadata_frame\n",
    "    if output == 'model+layer':\n",
    "        return (model_metadata_frame, layer_metadata_frame)"
   ]
  },
  {
   "cell_type": "code",
   "execution_count": null,
   "metadata": {},
   "outputs": [],
   "source": [
    "model_options = {**get_model_options(model_type='imagenet'), \n",
    "                 **get_model_options(train_type='taskonomy')}\n",
    "\n",
    "model_metadata_dflist = []\n",
    "layer_metadata_dflist = []\n",
    "\n",
    "def process(model_option):\n",
    "    incoming_metadata = get_model_metadata(model_option)\n",
    "    model_metadata_dflist.append(incoming_metadata[0])\n",
    "    layer_metadata_dflist.append(incoming_metadata[1])\n",
    "    \n",
    "problematic_model_options = []\n",
    "\n",
    "def remark(model_option):\n",
    "    problematic_model_options.append(model_option)\n",
    "    \n",
    "model_option_iterator = tqdm(model_options)\n",
    "for model_option in model_option_iterator:\n",
    "    #model_option_iterator.set_description(model_option)\n",
    "    try: process(model_option)\n",
    "    except: remark(model_option)"
   ]
  },
  {
   "cell_type": "code",
   "execution_count": null,
   "metadata": {},
   "outputs": [],
   "source": [
    "problematic_model_options"
   ]
  },
  {
   "cell_type": "code",
   "execution_count": null,
   "metadata": {},
   "outputs": [],
   "source": [
    "pd.concat(model_metadata_dflist).to_csv('model_metadata.csv', index = None)\n",
    "pd.concat(layer_metadata_dflist).to_csv('layer_metadata.csv', index = None)\n",
    "\n",
    "if 'model_metadata_json' in globals():\n",
    "    with open('model_metadata.json', 'w') as file:\n",
    "        json.dump(model_metadata_json, file)"
   ]
  },
  {
   "cell_type": "code",
   "execution_count": null,
   "metadata": {},
   "outputs": [],
   "source": [
    "model_performance_data = pd.read_csv('model_scores.csv')#.set_index('model').to_dict('index')"
   ]
  }
 ],
 "metadata": {
  "kernelspec": {
   "display_name": "Synthese",
   "language": "python",
   "name": "hodgepodge"
  },
  "language_info": {
   "codemirror_mode": {
    "name": "ipython",
    "version": 3
   },
   "file_extension": ".py",
   "mimetype": "text/x-python",
   "name": "python",
   "nbconvert_exporter": "python",
   "pygments_lexer": "ipython3",
   "version": "3.7.6"
  }
 },
 "nbformat": 4,
 "nbformat_minor": 4
}
