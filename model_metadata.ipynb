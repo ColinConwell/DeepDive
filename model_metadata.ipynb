{
 "cells": [
  {
   "cell_type": "code",
   "execution_count": null,
   "metadata": {},
   "outputs": [],
   "source": [
    "import warnings; warnings.filterwarnings(\"ignore\")"
   ]
  },
  {
   "cell_type": "code",
   "execution_count": null,
   "metadata": {},
   "outputs": [],
   "source": [
    "import os, sys, json\n",
    "import numpy as np\n",
    "import pandas as pd\n",
    "from tqdm.auto import tqdm as tqdm"
   ]
  },
  {
   "cell_type": "code",
   "execution_count": null,
   "metadata": {},
   "outputs": [],
   "source": [
    "os.environ['CUDA_VISIBLE_DEVICES'] = ''"
   ]
  },
  {
   "cell_type": "code",
   "execution_count": null,
   "metadata": {},
   "outputs": [],
   "source": [
    "sys.path.append('../model_options')\n",
    "from feature_extraction import *\n",
    "from model_options import *"
   ]
  },
  {
   "cell_type": "markdown",
   "metadata": {},
   "source": [
    "### Model Metadata Build"
   ]
  },
  {
   "cell_type": "code",
   "execution_count": null,
   "metadata": {},
   "outputs": [],
   "source": [
    "model_options = get_model_options()"
   ]
  },
  {
   "cell_type": "code",
   "execution_count": null,
   "metadata": {},
   "outputs": [],
   "source": [
    "def get_model_metadata(model_option, convert_to_dataframe = True):\n",
    "    model_name = model_option['model_name']\n",
    "    train_type = model_option['train_type']\n",
    "    model = eval(model_option['call'])\n",
    "    \n",
    "    layer_metadata = get_feature_map_metadata(model)\n",
    "    layer_count = len(layer_metadata.keys())\n",
    "    layer_order = [model_layer for model_layer in layer_metadata]\n",
    "    feature_counts = [layer_metadata[layer]['feature_count'] \n",
    "                      for layer in layer_metadata]\n",
    "    parameter_counts = [layer_metadata[layer]['parameter_count'] \n",
    "                        for layer in layer_metadata]\n",
    "    feature_map_shapes = [layer_metadata[layer]['feature_map_shape'] \n",
    "                          for layer in layer_metadata]\n",
    "    total_feature_count = int(np.array(feature_counts).sum())\n",
    "    total_parameter_count = int(np.array(parameter_counts).sum())\n",
    "    model_metadata = {'total_feature_count': total_feature_count,\n",
    "                      'total_parameter_count': total_parameter_count,\n",
    "                      'layer_count': layer_count,\n",
    "                      'layer_metadata': layer_metadata}\n",
    "    \n",
    "    if not convert_to_dataframe:\n",
    "        return(model_metadata)\n",
    "        \n",
    "    if convert_to_dataframe:\n",
    "\n",
    "        model_metadata_dictlist = []\n",
    "        \n",
    "        for layer_index, layer in enumerate(layer_metadata):\n",
    "            model_metadata_dictlist.append({'model': model_name, 'train_type': train_type,\n",
    "                                            'model_layer': layer, 'model_layer_index': layer_index + 1,\n",
    "                                            'model_layer_depth': (layer_index + 1) / layer_count,\n",
    "                                            'feature_count': layer_metadata[layer]['feature_count'],\n",
    "                                            'parameter_count': layer_metadata[layer]['parameter_count']})\n",
    "\n",
    "        return(pd.DataFrame(model_metadata_dictlist))"
   ]
  },
  {
   "cell_type": "code",
   "execution_count": null,
   "metadata": {},
   "outputs": [],
   "source": [
    "model_options = {**get_model_options(model_type='imagenet'), \n",
    "                 **get_model_options(train_type='taskonomy')}\n",
    "\n",
    "model_metadata_dflist = []\n",
    "\n",
    "def process(model_option):\n",
    "    incoming_metadata = get_model_metadata(model_option)\n",
    "    model_metadata_dflist.append(incoming_metadata)\n",
    "    \n",
    "problematic_model_options = []\n",
    "\n",
    "def remark(model_option):\n",
    "    problematic_model_options.append(model_option)\n",
    "    \n",
    "model_option_iterator = tqdm(model_options)\n",
    "for model_option in model_option_iterator:\n",
    "    model_option_iterator.set_description(model_option)\n",
    "    try: process(model_option)\n",
    "    except: remark(model_option)"
   ]
  },
  {
   "cell_type": "code",
   "execution_count": null,
   "metadata": {},
   "outputs": [],
   "source": [
    "pd.concat(model_metadata_dflist).to_csv('model_metadata.csv', index = None)\n",
    "\n",
    "if 'model_metadata_json' in globals():\n",
    "    with open('model_metadata.json', 'w') as file:\n",
    "        json.dump(model_metadata_json, file)"
   ]
  },
  {
   "cell_type": "code",
   "execution_count": null,
   "metadata": {},
   "outputs": [],
   "source": [
    "model_performance_data = pd.read_csv('model_scores.csv')#.set_index('model').to_dict('index')"
   ]
  }
 ],
 "metadata": {
  "kernelspec": {
   "display_name": "Synthese",
   "language": "python",
   "name": "hodgepodge"
  },
  "language_info": {
   "codemirror_mode": {
    "name": "ipython",
    "version": 3
   },
   "file_extension": ".py",
   "mimetype": "text/x-python",
   "name": "python",
   "nbconvert_exporter": "python",
   "pygments_lexer": "ipython3",
   "version": "3.7.6"
  }
 },
 "nbformat": 4,
 "nbformat_minor": 4
}
