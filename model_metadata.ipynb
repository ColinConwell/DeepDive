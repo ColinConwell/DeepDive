{
 "cells": [
  {
   "cell_type": "code",
   "execution_count": 1,
   "metadata": {},
   "outputs": [],
   "source": [
    "import warnings; warnings.filterwarnings(\"ignore\")"
   ]
  },
  {
   "cell_type": "code",
   "execution_count": 2,
   "metadata": {},
   "outputs": [],
   "source": [
    "import os, sys, json\n",
    "import numpy as np\n",
    "import pandas as pd\n",
    "from tqdm.auto import tqdm as tqdm"
   ]
  },
  {
   "cell_type": "code",
   "execution_count": 3,
   "metadata": {},
   "outputs": [],
   "source": [
    "os.environ['CUDA_VISIBLE_DEVICES'] = ''"
   ]
  },
  {
   "cell_type": "code",
   "execution_count": 4,
   "metadata": {},
   "outputs": [
    {
     "ename": "ModuleNotFoundError",
     "evalue": "No module named 'feature_extraction'",
     "output_type": "error",
     "traceback": [
      "\u001b[0;31m---------------------------------------------------------------------------\u001b[0m",
      "\u001b[0;31mModuleNotFoundError\u001b[0m                       Traceback (most recent call last)",
      "\u001b[0;32m<ipython-input-4-00953308e35d>\u001b[0m in \u001b[0;36m<module>\u001b[0;34m\u001b[0m\n\u001b[1;32m      1\u001b[0m \u001b[0msys\u001b[0m\u001b[0;34m.\u001b[0m\u001b[0mpath\u001b[0m\u001b[0;34m.\u001b[0m\u001b[0mappend\u001b[0m\u001b[0;34m(\u001b[0m\u001b[0;34m'../model_options'\u001b[0m\u001b[0;34m)\u001b[0m\u001b[0;34m\u001b[0m\u001b[0;34m\u001b[0m\u001b[0m\n\u001b[0;32m----> 2\u001b[0;31m \u001b[0;32mfrom\u001b[0m \u001b[0mfeature_extraction\u001b[0m \u001b[0;32mimport\u001b[0m \u001b[0;34m*\u001b[0m\u001b[0;34m\u001b[0m\u001b[0;34m\u001b[0m\u001b[0m\n\u001b[0m\u001b[1;32m      3\u001b[0m \u001b[0;32mfrom\u001b[0m \u001b[0mmodel_options\u001b[0m \u001b[0;32mimport\u001b[0m \u001b[0;34m*\u001b[0m\u001b[0;34m\u001b[0m\u001b[0;34m\u001b[0m\u001b[0m\n",
      "\u001b[0;31mModuleNotFoundError\u001b[0m: No module named 'feature_extraction'"
     ]
    }
   ],
   "source": [
    "sys.path.append('../model_options')\n",
    "from feature_extraction import *\n"
   ]
  },
  {
   "cell_type": "code",
   "execution_count": 14,
   "metadata": {
    "scrolled": true
   },
   "outputs": [
    {
     "name": "stdout",
     "output_type": "stream",
     "text": [
      "Processing /Users/garyk/Documents/code/neuro/DeepDive\n",
      "\u001b[33m  DEPRECATION: A future pip version will change local packages to be built in-place without first copying to a temporary directory. We recommend you use --use-feature=in-tree-build to test your packages with this new behavior before it becomes the default.\n",
      "   pip 21.3 will remove support for this functionality. You can find discussion regarding this at https://github.com/pypa/pip/issues/7555.\u001b[0m\n",
      "Requirement already satisfied: numpy in /Users/garyk/miniconda3/lib/python3.7/site-packages (from deepdive==0.1.0) (1.19.1)\n",
      "Requirement already satisfied: pandas in /Users/garyk/miniconda3/lib/python3.7/site-packages (from deepdive==0.1.0) (1.0.0)\n",
      "Requirement already satisfied: matplotlib in /Users/garyk/miniconda3/lib/python3.7/site-packages (from deepdive==0.1.0) (3.2.2)\n",
      "Requirement already satisfied: tdqm in /Users/garyk/miniconda3/lib/python3.7/site-packages (from deepdive==0.1.0) (0.0.1)\n",
      "Requirement already satisfied: torch in /Users/garyk/miniconda3/lib/python3.7/site-packages (from deepdive==0.1.0) (1.9.0)\n",
      "Requirement already satisfied: torchvision in /Users/garyk/miniconda3/lib/python3.7/site-packages (from deepdive==0.1.0) (0.10.0)\n",
      "Requirement already satisfied: sklearn in /Users/garyk/miniconda3/lib/python3.7/site-packages (from deepdive==0.1.0) (0.0)\n",
      "Requirement already satisfied: timm in /Users/garyk/miniconda3/lib/python3.7/site-packages (from deepdive==0.1.0) (0.4.12)\n",
      "Collecting visualpriors\n",
      "  Downloading visualpriors-0.3.5.tar.gz (10 kB)\n",
      "Requirement already satisfied: kiwisolver>=1.0.1 in /Users/garyk/miniconda3/lib/python3.7/site-packages (from matplotlib->deepdive==0.1.0) (1.2.0)\n",
      "Requirement already satisfied: python-dateutil>=2.1 in /Users/garyk/miniconda3/lib/python3.7/site-packages (from matplotlib->deepdive==0.1.0) (2.8.1)\n",
      "Requirement already satisfied: cycler>=0.10 in /Users/garyk/miniconda3/lib/python3.7/site-packages (from matplotlib->deepdive==0.1.0) (0.10.0)\n",
      "Requirement already satisfied: pyparsing!=2.0.4,!=2.1.2,!=2.1.6,>=2.0.1 in /Users/garyk/miniconda3/lib/python3.7/site-packages (from matplotlib->deepdive==0.1.0) (2.4.7)\n",
      "Requirement already satisfied: six in /Users/garyk/miniconda3/lib/python3.7/site-packages (from cycler>=0.10->matplotlib->deepdive==0.1.0) (1.15.0)\n",
      "Requirement already satisfied: pytz>=2017.2 in /Users/garyk/miniconda3/lib/python3.7/site-packages (from pandas->deepdive==0.1.0) (2020.1)\n",
      "Requirement already satisfied: scikit-learn in /Users/garyk/miniconda3/lib/python3.7/site-packages (from sklearn->deepdive==0.1.0) (0.24.2)\n",
      "Requirement already satisfied: threadpoolctl>=2.0.0 in /Users/garyk/miniconda3/lib/python3.7/site-packages (from scikit-learn->sklearn->deepdive==0.1.0) (2.1.0)\n",
      "Requirement already satisfied: joblib>=0.11 in /Users/garyk/miniconda3/lib/python3.7/site-packages (from scikit-learn->sklearn->deepdive==0.1.0) (1.0.0)\n",
      "Requirement already satisfied: scipy>=0.19.1 in /Users/garyk/miniconda3/lib/python3.7/site-packages (from scikit-learn->sklearn->deepdive==0.1.0) (1.5.0)\n",
      "Requirement already satisfied: tqdm in /Users/garyk/miniconda3/lib/python3.7/site-packages (from tdqm->deepdive==0.1.0) (4.36.1)\n",
      "Requirement already satisfied: typing-extensions in /Users/garyk/miniconda3/lib/python3.7/site-packages (from torch->deepdive==0.1.0) (3.10.0.0)\n",
      "Requirement already satisfied: pillow>=5.3.0 in /Users/garyk/miniconda3/lib/python3.7/site-packages (from torchvision->deepdive==0.1.0) (7.2.0)\n",
      "Building wheels for collected packages: deepdive, visualpriors\n",
      "  Building wheel for deepdive (setup.py) ... \u001b[?25ldone\n",
      "\u001b[?25h  Created wheel for deepdive: filename=deepdive-0.1.0-py3-none-any.whl size=1146 sha256=4becc0fd27181920b592eaf6a46f0e19b91434df4b75e3b316ea33cdea7beebf\n",
      "  Stored in directory: /private/var/folders/t8/z05p65mn3j997gd006knx_lc0000gn/T/pip-ephem-wheel-cache-8bjybzap/wheels/c3/5b/fa/9541d88274192506aebe5f5e3d59d52a95ec6079d663e0c5c7\n",
      "  Building wheel for visualpriors (setup.py) ... \u001b[?25ldone\n",
      "\u001b[?25h  Created wheel for visualpriors: filename=visualpriors-0.3.5-py3-none-any.whl size=11372 sha256=386cfad39f10f2b5e499a008a02b0da0df115c6cd35d39c07bc7ce5c0ebc37a3\n",
      "  Stored in directory: /Users/garyk/Library/Caches/pip/wheels/1d/38/39/95b4a6be74a54bde71129fad80b866f679d336fb5df4e5e497\n",
      "Successfully built deepdive visualpriors\n",
      "Installing collected packages: visualpriors, deepdive\n",
      "  Attempting uninstall: deepdive\n",
      "    Found existing installation: deepdive 0.1.0\n",
      "    Uninstalling deepdive-0.1.0:\n",
      "      Successfully uninstalled deepdive-0.1.0\n",
      "Successfully installed deepdive-0.1.0 visualpriors-0.3.5\n"
     ]
    }
   ],
   "source": [
    "!pip install ."
   ]
  },
  {
   "cell_type": "code",
   "execution_count": 15,
   "metadata": {},
   "outputs": [],
   "source": [
    "from DeepDive.feature_extraction import *\n",
    "from DeepDive.model_options import *"
   ]
  },
  {
   "cell_type": "markdown",
   "metadata": {},
   "source": [
    "### Model Metadata Build"
   ]
  },
  {
   "cell_type": "code",
   "execution_count": 16,
   "metadata": {},
   "outputs": [],
   "source": [
    "def get_model_metadata(model_option, convert_to_dataframe = True):\n",
    "    model_name = model_option['model_name']\n",
    "    train_type = model_option['train_type']\n",
    "    model = eval(model_option['call'])\n",
    "    \n",
    "    layer_metadata = get_feature_map_metadata(model)\n",
    "    layer_count = len(layer_metadata.keys())\n",
    "    layer_order = [model_layer for model_layer in layer_metadata]\n",
    "    feature_counts = [layer_metadata[layer]['feature_count'] \n",
    "                      for layer in layer_metadata]\n",
    "    parameter_counts = [layer_metadata[layer]['parameter_count'] \n",
    "                        for layer in layer_metadata]\n",
    "    feature_map_shapes = [layer_metadata[layer]['feature_map_shape'] \n",
    "                          for layer in layer_metadata]\n",
    "    total_feature_count = int(np.array(feature_counts).sum())\n",
    "    total_parameter_count = int(np.array(parameter_counts).sum())\n",
    "    model_metadata = {'total_feature_count': total_feature_count,\n",
    "                      'total_parameter_count': total_parameter_count,\n",
    "                      'layer_count': layer_count,\n",
    "                      'layer_metadata': layer_metadata}\n",
    "    \n",
    "    if not convert_to_dataframe:\n",
    "        return(model_metadata)\n",
    "        \n",
    "    if convert_to_dataframe:\n",
    "\n",
    "        model_metadata_dictlist = []\n",
    "        \n",
    "        for layer_index, layer in enumerate(layer_metadata):\n",
    "            model_metadata_dictlist.append({'model': model_name, 'train_type': train_type,\n",
    "                                            'model_layer': layer, 'model_layer_index': layer_index + 1,\n",
    "                                            'model_layer_depth': (layer_index + 1) / layer_count,\n",
    "                                            'feature_count': layer_metadata[layer]['feature_count'],\n",
    "                                            'parameter_count': layer_metadata[layer]['parameter_count']})\n",
    "\n",
    "        return(pd.DataFrame(model_metadata_dictlist))"
   ]
  },
  {
   "cell_type": "code",
   "execution_count": 21,
   "metadata": {},
   "outputs": [
    {
     "ename": "ImportError",
     "evalue": "IntProgress not found. Please update jupyter and ipywidgets. See https://ipywidgets.readthedocs.io/en/stable/user_install.html",
     "output_type": "error",
     "traceback": [
      "\u001b[0;31m---------------------------------------------------------------------------\u001b[0m",
      "\u001b[0;31mNameError\u001b[0m                                 Traceback (most recent call last)",
      "\u001b[0;32m~/miniconda3/lib/python3.7/site-packages/tqdm/notebook.py\u001b[0m in \u001b[0;36mstatus_printer\u001b[0;34m(_, total, desc, ncols)\u001b[0m\n\u001b[1;32m    102\u001b[0m             \u001b[0;32mif\u001b[0m \u001b[0mtotal\u001b[0m\u001b[0;34m:\u001b[0m\u001b[0;34m\u001b[0m\u001b[0;34m\u001b[0m\u001b[0m\n\u001b[0;32m--> 103\u001b[0;31m                 \u001b[0mpbar\u001b[0m \u001b[0;34m=\u001b[0m \u001b[0mIntProgress\u001b[0m\u001b[0;34m(\u001b[0m\u001b[0mmin\u001b[0m\u001b[0;34m=\u001b[0m\u001b[0;36m0\u001b[0m\u001b[0;34m,\u001b[0m \u001b[0mmax\u001b[0m\u001b[0;34m=\u001b[0m\u001b[0mtotal\u001b[0m\u001b[0;34m)\u001b[0m\u001b[0;34m\u001b[0m\u001b[0;34m\u001b[0m\u001b[0m\n\u001b[0m\u001b[1;32m    104\u001b[0m             \u001b[0;32melse\u001b[0m\u001b[0;34m:\u001b[0m  \u001b[0;31m# No total? Show info style bar with no progress tqdm status\u001b[0m\u001b[0;34m\u001b[0m\u001b[0;34m\u001b[0m\u001b[0m\n",
      "\u001b[0;31mNameError\u001b[0m: name 'IntProgress' is not defined",
      "\nDuring handling of the above exception, another exception occurred:\n",
      "\u001b[0;31mImportError\u001b[0m                               Traceback (most recent call last)",
      "\u001b[0;32m<ipython-input-21-a09b2a62a5a2>\u001b[0m in \u001b[0;36m<module>\u001b[0;34m\u001b[0m\n\u001b[1;32m     13\u001b[0m     \u001b[0mproblematic_model_options\u001b[0m\u001b[0;34m.\u001b[0m\u001b[0mappend\u001b[0m\u001b[0;34m(\u001b[0m\u001b[0mmodel_option\u001b[0m\u001b[0;34m)\u001b[0m\u001b[0;34m\u001b[0m\u001b[0;34m\u001b[0m\u001b[0m\n\u001b[1;32m     14\u001b[0m \u001b[0;34m\u001b[0m\u001b[0m\n\u001b[0;32m---> 15\u001b[0;31m \u001b[0mmodel_option_iterator\u001b[0m \u001b[0;34m=\u001b[0m \u001b[0mtqdm\u001b[0m\u001b[0;34m(\u001b[0m\u001b[0mmodel_options\u001b[0m\u001b[0;34m)\u001b[0m\u001b[0;34m\u001b[0m\u001b[0;34m\u001b[0m\u001b[0m\n\u001b[0m\u001b[1;32m     16\u001b[0m \u001b[0;32mfor\u001b[0m \u001b[0mmodel_option\u001b[0m \u001b[0;32min\u001b[0m \u001b[0mmodel_option_iterator\u001b[0m\u001b[0;34m:\u001b[0m\u001b[0;34m\u001b[0m\u001b[0;34m\u001b[0m\u001b[0m\n\u001b[1;32m     17\u001b[0m     \u001b[0mmodel_option_iterator\u001b[0m\u001b[0;34m.\u001b[0m\u001b[0mset_description\u001b[0m\u001b[0;34m(\u001b[0m\u001b[0mmodel_option\u001b[0m\u001b[0;34m)\u001b[0m\u001b[0;34m\u001b[0m\u001b[0;34m\u001b[0m\u001b[0m\n",
      "\u001b[0;32m~/miniconda3/lib/python3.7/site-packages/tqdm/notebook.py\u001b[0m in \u001b[0;36m__init__\u001b[0;34m(self, *args, **kwargs)\u001b[0m\n\u001b[1;32m    211\u001b[0m         \u001b[0mtotal\u001b[0m \u001b[0;34m=\u001b[0m \u001b[0mself\u001b[0m\u001b[0;34m.\u001b[0m\u001b[0mtotal\u001b[0m \u001b[0;34m*\u001b[0m \u001b[0munit_scale\u001b[0m \u001b[0;32mif\u001b[0m \u001b[0mself\u001b[0m\u001b[0;34m.\u001b[0m\u001b[0mtotal\u001b[0m \u001b[0;32melse\u001b[0m \u001b[0mself\u001b[0m\u001b[0;34m.\u001b[0m\u001b[0mtotal\u001b[0m\u001b[0;34m\u001b[0m\u001b[0;34m\u001b[0m\u001b[0m\n\u001b[1;32m    212\u001b[0m         self.container = self.status_printer(\n\u001b[0;32m--> 213\u001b[0;31m             self.fp, total, self.desc, self.ncols)\n\u001b[0m\u001b[1;32m    214\u001b[0m         \u001b[0mself\u001b[0m\u001b[0;34m.\u001b[0m\u001b[0msp\u001b[0m \u001b[0;34m=\u001b[0m \u001b[0mself\u001b[0m\u001b[0;34m.\u001b[0m\u001b[0mdisplay\u001b[0m\u001b[0;34m\u001b[0m\u001b[0;34m\u001b[0m\u001b[0m\n\u001b[1;32m    215\u001b[0m \u001b[0;34m\u001b[0m\u001b[0m\n",
      "\u001b[0;32m~/miniconda3/lib/python3.7/site-packages/tqdm/notebook.py\u001b[0m in \u001b[0;36mstatus_printer\u001b[0;34m(_, total, desc, ncols)\u001b[0m\n\u001b[1;32m    109\u001b[0m             \u001b[0;31m# #187 #451 #558\u001b[0m\u001b[0;34m\u001b[0m\u001b[0;34m\u001b[0m\u001b[0;34m\u001b[0m\u001b[0m\n\u001b[1;32m    110\u001b[0m             raise ImportError(\n\u001b[0;32m--> 111\u001b[0;31m                 \u001b[0;34m\"IntProgress not found. Please update jupyter and ipywidgets.\"\u001b[0m\u001b[0;34m\u001b[0m\u001b[0;34m\u001b[0m\u001b[0m\n\u001b[0m\u001b[1;32m    112\u001b[0m                 \u001b[0;34m\" See https://ipywidgets.readthedocs.io/en/stable\"\u001b[0m\u001b[0;34m\u001b[0m\u001b[0;34m\u001b[0m\u001b[0m\n\u001b[1;32m    113\u001b[0m                 \"/user_install.html\")\n",
      "\u001b[0;31mImportError\u001b[0m: IntProgress not found. Please update jupyter and ipywidgets. See https://ipywidgets.readthedocs.io/en/stable/user_install.html"
     ]
    }
   ],
   "source": [
    "model_options = {**get_model_options(model_type='imagenet'), \n",
    "                 **get_model_options(train_type='taskonomy')}\n",
    "\n",
    "model_metadata_dflist = []\n",
    "\n",
    "def process(model_option):\n",
    "    incoming_metadata = get_model_metadata(model_options[model_option])\n",
    "    model_metadata_dflist.append(incoming_metadata)\n",
    "    \n",
    "problematic_model_options = []\n",
    "\n",
    "def remark(model_option):\n",
    "    problematic_model_options.append(model_option)\n",
    "    \n",
    "model_option_iterator = tqdm(model_options)\n",
    "for model_option in model_option_iterator:\n",
    "    model_option_iterator.set_description(model_option)\n",
    "    try: process(model_option)\n",
    "    except: remark(model_option)"
   ]
  },
  {
   "cell_type": "code",
   "execution_count": 9,
   "metadata": {},
   "outputs": [],
   "source": [
    "pd.concat(model_metadata_dflist).to_csv('model_metadata.csv', index = None)\n",
    "\n",
    "if 'model_metadata_json' in globals():\n",
    "    with open('model_metadata.json', 'w') as file:\n",
    "        json.dump(model_metadata_json, file)"
   ]
  },
  {
   "cell_type": "code",
   "execution_count": null,
   "metadata": {},
   "outputs": [],
   "source": [
    "model_performance_data = pd.read_csv('model_scores.csv')#.set_index('model').to_dict('index')"
   ]
  }
 ],
 "metadata": {
  "kernelspec": {
   "display_name": "Python 3",
   "language": "python",
   "name": "python3"
  },
  "language_info": {
   "codemirror_mode": {
    "name": "ipython",
    "version": 3
   },
   "file_extension": ".py",
   "mimetype": "text/x-python",
   "name": "python",
   "nbconvert_exporter": "python",
   "pygments_lexer": "ipython3",
   "version": "3.7.8"
  }
 },
 "nbformat": 4,
 "nbformat_minor": 4
}
