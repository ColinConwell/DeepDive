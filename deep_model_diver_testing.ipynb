{
 "cells": [
  {
   "cell_type": "markdown",
   "metadata": {
    "id": "6hp8ftm6tt3O"
   },
   "source": [
    "<img height=\"50px\" src=\"https://colab.research.google.com/img/colab_favicon.ico\" align=\"left\" hspace=\"20px\" vspace=\"5px\">\n",
    "\n",
    "# Deep Model Diver Testing\n",
    "\n",
    "This notebook is designed to test the various functions (feature extraction, feature reduction, metadata collection and preliminary benchmarking) in the [Github](https://github.com/ColinConwell/DeepModelDiver) repo.\n",
    "\n"
   ]
  },
  {
   "cell_type": "markdown",
   "metadata": {
    "id": "iTWbGfL-W7oG"
   },
   "source": [
    "To edit this notebook, first click **File > Save a copy in drive**.\n",
    "\n",
    "Rename the notebook with the name of the model being tested.\n",
    "\n",
    "To navigate the notebook, simply click on a cell and hit **Shift + Enter**.\n"
   ]
  },
  {
   "cell_type": "code",
   "execution_count": 1,
   "metadata": {
    "colab": {
     "base_uri": "https://localhost:8080/"
    },
    "executionInfo": {
     "elapsed": 19837,
     "status": "ok",
     "timestamp": 1626749835498,
     "user": {
      "displayName": "Colin Conwell",
      "photoUrl": "https://lh3.googleusercontent.com/a-/AOh14Ggm_fma10pV5e9Wj9dIfmO05aYb7xEqHgCdk5Bqyw=s64",
      "userId": "10191446591455187613"
     },
     "user_tz": 240
    },
    "id": "t_P7uQale3b0",
    "outputId": "ded806d3-4c56-412d-fac3-70a9d6d460ee"
   },
   "outputs": [],
   "source": [
    "#The first step is downloading the packages we'll need, and cloning the Github repo.\n",
    "!pip install -q git+https://github.com/rwightman/pytorch-image-models \n",
    "!pip install -q --upgrade scikit-learn visualpriors\n",
    "# !git clone https://github.com/ColinConwell/DeepModelDiver/"
   ]
  },
  {
   "cell_type": "code",
   "execution_count": 1,
   "metadata": {
    "id": "hTsg84Qpevkc"
   },
   "outputs": [
    {
     "ename": "ModuleNotFoundError",
     "evalue": "No module named 'plotnine'",
     "output_type": "error",
     "traceback": [
      "\u001b[0;31m---------------------------------------------------------------------------\u001b[0m",
      "\u001b[0;31mModuleNotFoundError\u001b[0m                       Traceback (most recent call last)",
      "\u001b[0;32m<ipython-input-1-1d95ac816bb1>\u001b[0m in \u001b[0;36m<module>\u001b[0;34m\u001b[0m\n\u001b[1;32m      9\u001b[0m \u001b[0;32mfrom\u001b[0m \u001b[0mcopy\u001b[0m \u001b[0;32mimport\u001b[0m \u001b[0mcopy\u001b[0m\u001b[0;34m\u001b[0m\u001b[0;34m\u001b[0m\u001b[0m\n\u001b[1;32m     10\u001b[0m \u001b[0;32mfrom\u001b[0m \u001b[0mtqdm\u001b[0m\u001b[0;34m.\u001b[0m\u001b[0mauto\u001b[0m \u001b[0;32mimport\u001b[0m \u001b[0mtqdm\u001b[0m \u001b[0;32mas\u001b[0m \u001b[0mtqdm\u001b[0m\u001b[0;34m\u001b[0m\u001b[0;34m\u001b[0m\u001b[0m\n\u001b[0;32m---> 11\u001b[0;31m \u001b[0;32mfrom\u001b[0m \u001b[0mplotnine\u001b[0m \u001b[0;32mimport\u001b[0m \u001b[0;34m*\u001b[0m\u001b[0;34m\u001b[0m\u001b[0;34m\u001b[0m\u001b[0m\n\u001b[0m\u001b[1;32m     12\u001b[0m \u001b[0;34m\u001b[0m\u001b[0m\n\u001b[1;32m     13\u001b[0m \u001b[0mnp\u001b[0m\u001b[0;34m.\u001b[0m\u001b[0mrandom\u001b[0m\u001b[0;34m.\u001b[0m\u001b[0mseed\u001b[0m\u001b[0;34m(\u001b[0m\u001b[0;36m123\u001b[0m\u001b[0;34m)\u001b[0m\u001b[0;34m\u001b[0m\u001b[0;34m\u001b[0m\u001b[0m\n",
      "\u001b[0;31mModuleNotFoundError\u001b[0m: No module named 'plotnine'"
     ]
    }
   ],
   "source": [
    "import warnings\n",
    "warnings.filterwarnings(\"ignore\")\n",
    "\n",
    "import os, sys, json\n",
    "import numpy as np\n",
    "import pandas as pd\n",
    "import seaborn as sns\n",
    "from glob import glob\n",
    "from copy import copy\n",
    "from tqdm.auto import tqdm as tqdm\n",
    "from plotnine import *\n",
    "\n",
    "np.random.seed(123)"
   ]
  },
  {
   "cell_type": "markdown",
   "metadata": {
    "id": "OO6iuCaAevkh"
   },
   "source": [
    "## Choose Your Model"
   ]
  },
  {
   "cell_type": "markdown",
   "metadata": {
    "id": "8e00pm6gevki"
   },
   "source": [
    "Any feedforward PyTorch model that takes in images (or video frames) as input will do. Our ultimate goal will be to add this model to our running list of available models, the current version of which we can load as follows:"
   ]
  },
  {
   "cell_type": "code",
   "execution_count": 2,
   "metadata": {
    "scrolled": true
   },
   "outputs": [
    {
     "name": "stdout",
     "output_type": "stream",
     "text": [
      "Processing /Users/garyk/Documents/code/neuro/DeepDive\n",
      "\u001b[33m  DEPRECATION: A future pip version will change local packages to be built in-place without first copying to a temporary directory. We recommend you use --use-feature=in-tree-build to test your packages with this new behavior before it becomes the default.\n",
      "   pip 21.3 will remove support for this functionality. You can find discussion regarding this at https://github.com/pypa/pip/issues/7555.\u001b[0m\n",
      "Requirement already satisfied: numpy in /Users/garyk/miniconda3/lib/python3.7/site-packages (from deepdive==0.1.0) (1.19.5)\n",
      "Requirement already satisfied: pandas in /Users/garyk/miniconda3/lib/python3.7/site-packages (from deepdive==0.1.0) (1.0.0)\n",
      "Requirement already satisfied: matplotlib in /Users/garyk/miniconda3/lib/python3.7/site-packages (from deepdive==0.1.0) (3.2.2)\n",
      "Requirement already satisfied: tdqm in /Users/garyk/miniconda3/lib/python3.7/site-packages (from deepdive==0.1.0) (0.0.1)\n",
      "Requirement already satisfied: torch in /Users/garyk/miniconda3/lib/python3.7/site-packages (from deepdive==0.1.0) (1.9.0)\n",
      "Requirement already satisfied: torchvision in /Users/garyk/miniconda3/lib/python3.7/site-packages (from deepdive==0.1.0) (0.10.0)\n",
      "Requirement already satisfied: sklearn in /Users/garyk/miniconda3/lib/python3.7/site-packages (from deepdive==0.1.0) (0.0)\n",
      "Requirement already satisfied: timm in /Users/garyk/miniconda3/lib/python3.7/site-packages (from deepdive==0.1.0) (0.4.13)\n",
      "Requirement already satisfied: visualpriors in /Users/garyk/miniconda3/lib/python3.7/site-packages (from deepdive==0.1.0) (0.3.5)\n",
      "Requirement already satisfied: cycler>=0.10 in /Users/garyk/miniconda3/lib/python3.7/site-packages (from matplotlib->deepdive==0.1.0) (0.10.0)\n",
      "Requirement already satisfied: python-dateutil>=2.1 in /Users/garyk/miniconda3/lib/python3.7/site-packages (from matplotlib->deepdive==0.1.0) (2.8.1)\n",
      "Requirement already satisfied: pyparsing!=2.0.4,!=2.1.2,!=2.1.6,>=2.0.1 in /Users/garyk/miniconda3/lib/python3.7/site-packages (from matplotlib->deepdive==0.1.0) (2.4.7)\n",
      "Requirement already satisfied: kiwisolver>=1.0.1 in /Users/garyk/miniconda3/lib/python3.7/site-packages (from matplotlib->deepdive==0.1.0) (1.2.0)\n",
      "Requirement already satisfied: six in /Users/garyk/miniconda3/lib/python3.7/site-packages (from cycler>=0.10->matplotlib->deepdive==0.1.0) (1.15.0)\n",
      "Requirement already satisfied: pytz>=2017.2 in /Users/garyk/miniconda3/lib/python3.7/site-packages (from pandas->deepdive==0.1.0) (2020.1)\n",
      "Requirement already satisfied: scikit-learn in /Users/garyk/miniconda3/lib/python3.7/site-packages (from sklearn->deepdive==0.1.0) (0.24.2)\n",
      "Requirement already satisfied: joblib>=0.11 in /Users/garyk/miniconda3/lib/python3.7/site-packages (from scikit-learn->sklearn->deepdive==0.1.0) (1.0.0)\n",
      "Requirement already satisfied: scipy>=0.19.1 in /Users/garyk/miniconda3/lib/python3.7/site-packages (from scikit-learn->sklearn->deepdive==0.1.0) (1.5.0)\n",
      "Requirement already satisfied: threadpoolctl>=2.0.0 in /Users/garyk/miniconda3/lib/python3.7/site-packages (from scikit-learn->sklearn->deepdive==0.1.0) (2.1.0)\n",
      "Requirement already satisfied: tqdm in /Users/garyk/miniconda3/lib/python3.7/site-packages (from tdqm->deepdive==0.1.0) (4.36.1)\n",
      "Requirement already satisfied: typing-extensions in /Users/garyk/miniconda3/lib/python3.7/site-packages (from torch->deepdive==0.1.0) (3.7.4.3)\n",
      "Requirement already satisfied: pillow>=5.3.0 in /Users/garyk/miniconda3/lib/python3.7/site-packages (from torchvision->deepdive==0.1.0) (7.2.0)\n",
      "Building wheels for collected packages: deepdive\n",
      "  Building wheel for deepdive (setup.py) ... \u001b[?25ldone\n",
      "\u001b[?25h  Created wheel for deepdive: filename=deepdive-0.1.0-py3-none-any.whl size=1145 sha256=17e442547043bcbee483773117aabdfbfd984d71ff381fd1eb852da4318a92a0\n",
      "  Stored in directory: /private/var/folders/t8/z05p65mn3j997gd006knx_lc0000gn/T/pip-ephem-wheel-cache-wlicv5u1/wheels/c3/5b/fa/9541d88274192506aebe5f5e3d59d52a95ec6079d663e0c5c7\n",
      "Successfully built deepdive\n",
      "Installing collected packages: deepdive\n",
      "  Attempting uninstall: deepdive\n",
      "    Found existing installation: deepdive 0.1.0\n",
      "    Uninstalling deepdive-0.1.0:\n",
      "      Successfully uninstalled deepdive-0.1.0\n",
      "Successfully installed deepdive-0.1.0\n",
      "\u001b[33mWARNING: You are using pip version 21.2.3; however, version 21.2.4 is available.\n",
      "You should consider upgrading via the '/Users/garyk/miniconda3/bin/python -m pip install --upgrade pip' command.\u001b[0m\n"
     ]
    }
   ],
   "source": [
    "!pip install ."
   ]
  },
  {
   "cell_type": "code",
   "execution_count": 4,
   "metadata": {
    "id": "xbWIkok9Ogip"
   },
   "outputs": [],
   "source": [
    "from DeepDive.model_options import *\n",
    "model_options = get_model_options()"
   ]
  },
  {
   "cell_type": "markdown",
   "metadata": {
    "id": "ObJsQLl2N6Uv"
   },
   "source": [
    "***model_options*** is a nested dictionary (where each key is a *model_string* of the form *model_name_train_type*)."
   ]
  },
  {
   "cell_type": "code",
   "execution_count": 5,
   "metadata": {
    "colab": {
     "base_uri": "https://localhost:8080/"
    },
    "executionInfo": {
     "elapsed": 38,
     "status": "ok",
     "timestamp": 1626728858678,
     "user": {
      "displayName": "Colin Conwell",
      "photoUrl": "https://lh3.googleusercontent.com/a-/AOh14Ggm_fma10pV5e9Wj9dIfmO05aYb7xEqHgCdk5Bqyw=s64",
      "userId": "10191446591455187613"
     },
     "user_tz": 240
    },
    "id": "rV7nJTJvNwlg",
    "outputId": "bb65fa55-b47a-4222-898a-9ff370360cf2"
   },
   "outputs": [
    {
     "data": {
      "text/plain": [
       "['alexnet_imagenet',\n",
       " 'resnet34_imagenet',\n",
       " 'googlenet_imagenet',\n",
       " 'inception_v3_imagenet',\n",
       " 'curvature_taskonomy',\n",
       " 'vanishing_point_taskonomy',\n",
       " 'eca_nfnet_l0_random',\n",
       " 'hardcorenas_f_random',\n",
       " 'mobilenetv3_rw_random',\n",
       " 'repvgg_b3_random',\n",
       " 'skresnet18_random',\n",
       " 'tf_efficientnet_b7_random',\n",
       " 'vit_small_patch16_224_random']"
      ]
     },
     "execution_count": 5,
     "metadata": {},
     "output_type": "execute_result"
    }
   ],
   "source": [
    "list(model_options.keys())[1::20]"
   ]
  },
  {
   "cell_type": "markdown",
   "metadata": {
    "id": "QhfKnQdThjr_"
   },
   "source": [
    "Each entry in ***model_options*** contains key information about the model, including:\n",
    "\n",
    "\n",
    "*   train_type: is the model pretrained or randomly initialized? if it was trained, how was it trained? (e.g. with imagenet?)\n",
    "*   model_type: what kind of model is this? (segmentation, detection, classification?)\n",
    "*   model_source: where does the model originate? (torchvision? facebookresearch?)\n",
    "*   call: what is the function for loading the model?\n",
    "\n"
   ]
  },
  {
   "cell_type": "code",
   "execution_count": 6,
   "metadata": {
    "colab": {
     "base_uri": "https://localhost:8080/"
    },
    "executionInfo": {
     "elapsed": 25,
     "status": "ok",
     "timestamp": 1626728858679,
     "user": {
      "displayName": "Colin Conwell",
      "photoUrl": "https://lh3.googleusercontent.com/a-/AOh14Ggm_fma10pV5e9Wj9dIfmO05aYb7xEqHgCdk5Bqyw=s64",
      "userId": "10191446591455187613"
     },
     "user_tz": 240
    },
    "id": "hbBzLFgnheQr",
    "outputId": "3860a868-fa55-4e87-cf58-855f613b9294"
   },
   "outputs": [
    {
     "data": {
      "text/plain": [
       "{'model_name': 'alexnet',\n",
       " 'model_type': 'imagenet',\n",
       " 'train_type': 'imagenet',\n",
       " 'model_source': 'torchvision',\n",
       " 'call': 'models.alexnet(pretrained=True)'}"
      ]
     },
     "execution_count": 6,
     "metadata": {},
     "output_type": "execute_result"
    }
   ],
   "source": [
    "model_options['alexnet_imagenet'] #here is the information for alexnet_imagenet"
   ]
  },
  {
   "cell_type": "markdown",
   "metadata": {
    "id": "bEFSybYYt5pg"
   },
   "source": [
    "In the steps below, we'll load our model from source and add it as an entry into our ***model_options*** dictionary."
   ]
  },
  {
   "cell_type": "code",
   "execution_count": 7,
   "metadata": {
    "id": "uKVeHKjwevk8"
   },
   "outputs": [],
   "source": [
    "model_string = 'autoencoding_taskonomy'\n",
    "model_name = model_options[model_string]['model_name']\n",
    "train_type = model_options[model_string]['train_type']\n",
    "model_call = model_options[model_string]['call']\n",
    "\n",
    "model = eval(model_call) \n",
    "model = model.eval() \n",
    "if torch.cuda.is_available(): \n",
    "  model = model.cuda()\n",
    "\n",
    "image_transforms = get_recommended_transforms(model_string)"
   ]
  },
  {
   "cell_type": "code",
   "execution_count": 8,
   "metadata": {
    "colab": {
     "base_uri": "https://localhost:8080/"
    },
    "executionInfo": {
     "elapsed": 149,
     "status": "ok",
     "timestamp": 1626749933834,
     "user": {
      "displayName": "Colin Conwell",
      "photoUrl": "https://lh3.googleusercontent.com/a-/AOh14Ggm_fma10pV5e9Wj9dIfmO05aYb7xEqHgCdk5Bqyw=s64",
      "userId": "10191446591455187613"
     },
     "user_tz": 240
    },
    "id": "gfkKY_tt2fQl",
    "outputId": "25c56019-03ba-4b87-859e-c0368cb3a35c"
   },
   "outputs": [
    {
     "data": {
      "text/plain": [
       "Parameter containing:\n",
       "tensor([1.0262, 0.9731, 1.0123, 1.0255, 0.9517, 0.9062, 0.9572, 1.0206, 0.9824,\n",
       "        0.9795, 0.9653, 0.9732, 1.0088, 0.9667, 1.0228, 1.0072, 0.9481, 1.0441,\n",
       "        1.0338, 0.9702, 1.0115, 1.0292, 1.0179, 0.9395, 1.0365, 1.0303, 1.0224,\n",
       "        1.0720, 0.9943, 1.0307, 0.9704, 0.8103, 1.0095, 0.9974, 1.0254, 1.0031,\n",
       "        1.0029, 0.9474, 0.9859, 1.0280, 1.0274, 0.9722, 1.0436, 1.0204, 0.9093,\n",
       "        1.0160, 0.9970, 0.9517, 1.0004, 1.0069, 1.0481, 0.9838, 1.0408, 1.0321,\n",
       "        0.9884, 0.9548, 0.9634, 0.9527, 1.0057, 0.9641, 1.0179, 1.0655, 0.9647,\n",
       "        0.9829])"
      ]
     },
     "execution_count": 8,
     "metadata": {},
     "output_type": "execute_result"
    }
   ],
   "source": [
    "list(model.parameters())[1]"
   ]
  },
  {
   "cell_type": "markdown",
   "metadata": {
    "id": "_daXesswfg6_"
   },
   "source": [
    "## Load Test Stimuli"
   ]
  },
  {
   "cell_type": "code",
   "execution_count": 10,
   "metadata": {},
   "outputs": [
    {
     "name": "stdout",
     "output_type": "stream",
     "text": [
      "Collecting gdown\n",
      "  Downloading gdown-3.13.0.tar.gz (9.3 kB)\n",
      "  Installing build dependencies ... \u001b[?25ldone\n",
      "\u001b[?25h  Getting requirements to build wheel ... \u001b[?25ldone\n",
      "\u001b[?25h    Preparing wheel metadata ... \u001b[?25ldone\n",
      "\u001b[?25hCollecting filelock\n",
      "  Downloading filelock-3.0.12-py3-none-any.whl (7.6 kB)\n",
      "Requirement already satisfied: requests[socks]>=2.12.0 in /Users/garyk/miniconda3/lib/python3.7/site-packages (from gdown) (2.22.0)\n",
      "Requirement already satisfied: tqdm in /Users/garyk/miniconda3/lib/python3.7/site-packages (from gdown) (4.36.1)\n",
      "Requirement already satisfied: six in /Users/garyk/miniconda3/lib/python3.7/site-packages (from gdown) (1.15.0)\n",
      "Requirement already satisfied: certifi>=2017.4.17 in /Users/garyk/miniconda3/lib/python3.7/site-packages (from requests[socks]>=2.12.0->gdown) (2020.6.20)\n",
      "Requirement already satisfied: chardet<3.1.0,>=3.0.2 in /Users/garyk/miniconda3/lib/python3.7/site-packages (from requests[socks]>=2.12.0->gdown) (3.0.4)\n",
      "Requirement already satisfied: urllib3!=1.25.0,!=1.25.1,<1.26,>=1.21.1 in /Users/garyk/miniconda3/lib/python3.7/site-packages (from requests[socks]>=2.12.0->gdown) (1.24.2)\n",
      "Requirement already satisfied: idna<2.9,>=2.5 in /Users/garyk/miniconda3/lib/python3.7/site-packages (from requests[socks]>=2.12.0->gdown) (2.8)\n",
      "Requirement already satisfied: PySocks!=1.5.7,>=1.5.6 in /Users/garyk/miniconda3/lib/python3.7/site-packages (from requests[socks]>=2.12.0->gdown) (1.7.1)\n",
      "Building wheels for collected packages: gdown\n",
      "  Building wheel for gdown (PEP 517) ... \u001b[?25ldone\n",
      "\u001b[?25h  Created wheel for gdown: filename=gdown-3.13.0-py3-none-any.whl size=9033 sha256=fa4a2da25968b32b7e8fa5cbc6235c4f60d67f72f2886f45cb5d5b449f3c8676\n",
      "  Stored in directory: /Users/garyk/Library/Caches/pip/wheels/2f/2a/2f/86449b6bdbaa9aef873f68332b68be6bfbc386b9219f47157d\n",
      "Successfully built gdown\n",
      "Installing collected packages: filelock, gdown\n",
      "Successfully installed filelock-3.0.12 gdown-3.13.0\n"
     ]
    }
   ],
   "source": [
    "!pip install gdown\n"
   ]
  },
  {
   "cell_type": "markdown",
   "metadata": {
    "id": "_ENK3vqpfoKo"
   },
   "source": [
    "Let's download some images for use in our testing..."
   ]
  },
  {
   "cell_type": "code",
   "execution_count": 11,
   "metadata": {
    "colab": {
     "base_uri": "https://localhost:8080/"
    },
    "executionInfo": {
     "elapsed": 6038,
     "status": "ok",
     "timestamp": 1626728885335,
     "user": {
      "displayName": "Colin Conwell",
      "photoUrl": "https://lh3.googleusercontent.com/a-/AOh14Ggm_fma10pV5e9Wj9dIfmO05aYb7xEqHgCdk5Bqyw=s64",
      "userId": "10191446591455187613"
     },
     "user_tz": 240
    },
    "id": "K6BNxtucMt9I",
    "outputId": "76719486-81d2-4bd4-fabf-e6c8213c02b3"
   },
   "outputs": [
    {
     "name": "stdout",
     "output_type": "stream",
     "text": [
      "Downloading...\n",
      "From: https://drive.google.com/uc?id=1gTT1HwclbdVznBD-Z7_z3tg07M8YrE_6\n",
      "To: /Users/garyk/Documents/code/neuro/DeepDive/oasis_images.tar.bz\n",
      "86.0MB [00:07, 12.1MB/s]\n",
      "Downloading...\n",
      "From: https://drive.google.com/uc?id=1B5cj5lZf9_T1FwjqT5cxKxLbxIh-VstG\n",
      "To: /Users/garyk/Documents/code/neuro/DeepDive/oasis_image_ratings.csv\n",
      "100%|██████████████████████████████████████| 31.9k/31.9k [00:00<00:00, 18.8MB/s]\n"
     ]
    }
   ],
   "source": [
    "#the following commands download files from Google Drive and arrange them in folders\n",
    "!gdown https://drive.google.com/uc?id=1gTT1HwclbdVznBD-Z7_z3tg07M8YrE_6\n",
    "!gdown https://drive.google.com/uc?id=1B5cj5lZf9_T1FwjqT5cxKxLbxIh-VstG\n",
    "!tar xf oasis_images.tar.bz && mv images/oasis oasis_images && rm -rf images"
   ]
  },
  {
   "cell_type": "markdown",
   "metadata": {
    "id": "QY66MQmBtm9U"
   },
   "source": [
    "...and put their paths into a dataframe for easy loading."
   ]
  },
  {
   "cell_type": "code",
   "execution_count": 12,
   "metadata": {
    "id": "IeLzjEUqrIGK"
   },
   "outputs": [],
   "source": [
    "root = 'oasis_images/' # the folder where the images exist\n",
    "assets = glob(root + '*.jpg') # a list of the images in the folder\n",
    "asset_dictlist = [] # an empty list to which we'll add dictionary entries\n",
    "for asset in assets: # looping through all images...\n",
    "    image_name = asset.split('/')[-1] # we extract the image_name from the file name\n",
    "    row = {'image_name': image_name} # we make a new row for this image_name\n",
    "    asset_dictlist.append(row) # then add it to our list of dictionaries\n",
    "image_data = (pd.DataFrame(asset_dictlist)\n",
    "              .sort_values(by='image_name', ignore_index=True)) # finally, we make a dataframe out of our list of dictionaries"
   ]
  },
  {
   "cell_type": "markdown",
   "metadata": {
    "id": "c54ev0tutuiK"
   },
   "source": [
    "The end product of this process should look something like this (and most importantly, have at least one column labeled **image_name**):"
   ]
  },
  {
   "cell_type": "code",
   "execution_count": 13,
   "metadata": {
    "colab": {
     "base_uri": "https://localhost:8080/",
     "height": 204
    },
    "executionInfo": {
     "elapsed": 26,
     "status": "ok",
     "timestamp": 1626728885338,
     "user": {
      "displayName": "Colin Conwell",
      "photoUrl": "https://lh3.googleusercontent.com/a-/AOh14Ggm_fma10pV5e9Wj9dIfmO05aYb7xEqHgCdk5Bqyw=s64",
      "userId": "10191446591455187613"
     },
     "user_tz": 240
    },
    "id": "WWrJ8W5rt8uf",
    "outputId": "6fd6a039-49ad-4544-f587-d601741efa84"
   },
   "outputs": [
    {
     "data": {
      "text/html": [
       "<div>\n",
       "<style scoped>\n",
       "    .dataframe tbody tr th:only-of-type {\n",
       "        vertical-align: middle;\n",
       "    }\n",
       "\n",
       "    .dataframe tbody tr th {\n",
       "        vertical-align: top;\n",
       "    }\n",
       "\n",
       "    .dataframe thead th {\n",
       "        text-align: right;\n",
       "    }\n",
       "</style>\n",
       "<table border=\"1\" class=\"dataframe\">\n",
       "  <thead>\n",
       "    <tr style=\"text-align: right;\">\n",
       "      <th></th>\n",
       "      <th>image_name</th>\n",
       "    </tr>\n",
       "  </thead>\n",
       "  <tbody>\n",
       "    <tr>\n",
       "      <th>178</th>\n",
       "      <td>Collaboration1.jpg</td>\n",
       "    </tr>\n",
       "    <tr>\n",
       "      <th>88</th>\n",
       "      <td>Boredpose4.jpg</td>\n",
       "    </tr>\n",
       "    <tr>\n",
       "      <th>873</th>\n",
       "      <td>Wedding1.jpg</td>\n",
       "    </tr>\n",
       "    <tr>\n",
       "      <th>365</th>\n",
       "      <td>Frustratedpose5.jpg</td>\n",
       "    </tr>\n",
       "    <tr>\n",
       "      <th>213</th>\n",
       "      <td>Depressedpose2.jpg</td>\n",
       "    </tr>\n",
       "  </tbody>\n",
       "</table>\n",
       "</div>"
      ],
      "text/plain": [
       "              image_name\n",
       "178   Collaboration1.jpg\n",
       "88        Boredpose4.jpg\n",
       "873         Wedding1.jpg\n",
       "365  Frustratedpose5.jpg\n",
       "213   Depressedpose2.jpg"
      ]
     },
     "execution_count": 13,
     "metadata": {},
     "output_type": "execute_result"
    }
   ],
   "source": [
    "image_data.sample(5) # let's get a random sample of 5 rows of our image_data frame"
   ]
  },
  {
   "cell_type": "markdown",
   "metadata": {
    "id": "toXCPI4revkl"
   },
   "source": [
    "## Testing Feature Extraction"
   ]
  },
  {
   "cell_type": "markdown",
   "metadata": {
    "id": "v2tBaoo6evkl"
   },
   "source": [
    "Feature extraction is the process wherein we pass images through the model and extract features at each successive layer of computation."
   ]
  },
  {
   "cell_type": "code",
   "execution_count": 14,
   "metadata": {
    "id": "TQkkHQNYevkm"
   },
   "outputs": [],
   "source": [
    "from DeepDive.feature_extraction import * #loading functions for feature extraction"
   ]
  },
  {
   "cell_type": "markdown",
   "metadata": {
    "id": "8r3ZmShuu0Yy"
   },
   "source": [
    "To start the process, we make what's called a dataloader, storing our images in such a way that our model can more easily access them."
   ]
  },
  {
   "cell_type": "code",
   "execution_count": 15,
   "metadata": {
    "id": "Us9Pu_ixrpSF"
   },
   "outputs": [],
   "source": [
    "image_loader = DataLoader(dataset=StimulusSet(image_data, root, image_transforms), batch_size=64)\n",
    "# notice, we tell the dataloader to use our image_transforms; a batch size of 64 means we'll load 64 images at a time"
   ]
  },
  {
   "cell_type": "code",
   "execution_count": 16,
   "metadata": {
    "colab": {
     "base_uri": "https://localhost:8080/",
     "height": 303
    },
    "executionInfo": {
     "elapsed": 2680,
     "status": "ok",
     "timestamp": 1626728887995,
     "user": {
      "displayName": "Colin Conwell",
      "photoUrl": "https://lh3.googleusercontent.com/a-/AOh14Ggm_fma10pV5e9Wj9dIfmO05aYb7xEqHgCdk5Bqyw=s64",
      "userId": "10191446591455187613"
     },
     "user_tz": 240
    },
    "id": "aeHwcalkwltD",
    "outputId": "4476571d-669f-46ea-c0f4-6ca771f1622d"
   },
   "outputs": [
    {
     "data": {
      "image/png": "[encoded data removed]",
      "text/plain": [
       "<Figure size 360x360 with 1 Axes>"
      ]
     },
     "metadata": {
      "needs_background": "light"
     },
     "output_type": "display_data"
    }
   ],
   "source": [
    "# if our dataloader's worked correctly, it should return a grid of images:\n",
    "get_dataloader_sample(image_loader, nrow = 8)"
   ]
  },
  {
   "cell_type": "markdown",
   "metadata": {
    "id": "elgRbhtlevk-"
   },
   "source": [
    "Next, we run the extraction -- a function that will return to us an ordered dictionary, wherein each successive entry is a layer of computation."
   ]
  },
  {
   "cell_type": "code",
   "execution_count": null,
   "metadata": {
    "id": "wcpRVV1Ievk-"
   },
   "outputs": [],
   "source": [
    "model_inputs = next(iter(image_loader))[:3] # for now, we'll test our feature extraction with only three images...\n",
    "feature_maps = get_all_feature_maps(model, model_inputs)"
   ]
  },
  {
   "cell_type": "code",
   "execution_count": null,
   "metadata": {
    "colab": {
     "base_uri": "https://localhost:8080/"
    },
    "executionInfo": {
     "elapsed": 5,
     "status": "ok",
     "timestamp": 1626729357926,
     "user": {
      "displayName": "Colin Conwell",
      "photoUrl": "https://lh3.googleusercontent.com/a-/AOh14Ggm_fma10pV5e9Wj9dIfmO05aYb7xEqHgCdk5Bqyw=s64",
      "userId": "10191446591455187613"
     },
     "user_tz": 240
    },
    "id": "HekyyIZR7Hn7",
    "outputId": "a5566ec0-0124-4f02-dbc1-96551aadfea9"
   },
   "outputs": [],
   "source": [
    "# these are the names of each model layer\n",
    "model_layer_names = list(feature_maps.keys())\n",
    "print(model_layer_names)"
   ]
  },
  {
   "cell_type": "markdown",
   "metadata": {
    "id": "_x2oNk2gevlA"
   },
   "source": [
    "Each entry in this dictionary is an array whose shape corresponds to the number of stimuli by the number of flattened activations in that layer."
   ]
  },
  {
   "cell_type": "code",
   "execution_count": null,
   "metadata": {
    "id": "_WZ6cH1hevlB"
   },
   "outputs": [],
   "source": [
    "feature_maps['Linear-1'].shape # 3 stimuli x ~300,000 features"
   ]
  },
  {
   "cell_type": "markdown",
   "metadata": {
    "id": "WIriSFr_evlG"
   },
   "source": [
    "## Testing Dimensionality Reduction"
   ]
  },
  {
   "cell_type": "markdown",
   "metadata": {
    "id": "-SppnvdtevlG"
   },
   "source": [
    "Once we've extracted our model features (activations), we generally need to reduce their dimensionality. Here, we test the extraction of sparse random projections (a form of dimensionality reduction) from the feature maps corresponding to each model layer."
   ]
  },
  {
   "cell_type": "code",
   "execution_count": null,
   "metadata": {
    "id": "e8aeyhLaevlG"
   },
   "outputs": [],
   "source": [
    "from feature_reduction import * #loading functions for feature reduction"
   ]
  },
  {
   "cell_type": "markdown",
   "metadata": {
    "id": "4QIz8CkZevlD"
   },
   "source": [
    "For the purposes of this test, we'll subset from our full set of feature maps (layers) every 3rd linear layer, starting with the first."
   ]
  },
  {
   "cell_type": "code",
   "execution_count": null,
   "metadata": {
    "id": "HkEY5WUtevlD"
   },
   "outputs": [],
   "source": [
    "feature_maps_subset = {map_key: map_item  for (map_key, map_item) in feature_maps.items() \n",
    "                          if 'Linear' in map_key and int(map_key[-1]) % 3 == 1}"
   ]
  },
  {
   "cell_type": "code",
   "execution_count": null,
   "metadata": {
    "id": "7xf3FBjh1Ltd"
   },
   "outputs": [],
   "source": [
    "len(feature_maps_subset) #subsetting in this way leaves us 15 feature maps..."
   ]
  },
  {
   "cell_type": "markdown",
   "metadata": {
    "id": "g-snGi3QevlL"
   },
   "source": [
    "We then perform our dimensionality reduction using another wrapper function we've written to facilitate the process, producing a dictionary in which each key corresponds to a layer, and each value corresponds to the dimensionality reduced feature map for that layer."
   ]
  },
  {
   "cell_type": "code",
   "execution_count": null,
   "metadata": {
    "id": "KKKNCdLqevlL"
   },
   "outputs": [],
   "source": [
    "feature_maps_reduced = srp_extraction(model_string, model, feature_maps = feature_maps_subset, \n",
    "                                      output_dir = os.path.join('outputs', 'srp_arrays'))"
   ]
  },
  {
   "cell_type": "code",
   "execution_count": null,
   "metadata": {
    "id": "ym4P7U2K1roZ"
   },
   "outputs": [],
   "source": [
    "print(feature_maps_reduced.keys()) # these are the names of the layers from our feature maps subset"
   ]
  },
  {
   "cell_type": "code",
   "execution_count": null,
   "metadata": {
    "id": "to05yPZo0a-c"
   },
   "outputs": [],
   "source": [
    "feature_maps_reduced['Linear-1'].shape # 3 stimuli x 941 dimensionality reduced features"
   ]
  },
  {
   "cell_type": "markdown",
   "metadata": {
    "id": "vTAVt2nySIVG"
   },
   "source": [
    "## Testing Metadata Collection"
   ]
  },
  {
   "cell_type": "markdown",
   "metadata": {
    "id": "z-k4ek9IPFEm"
   },
   "source": [
    "Another crucial step in the modeling process is extracting general information about the layers of computation in our model -- things like how many features each layer has, and how deep each layer is as a proportion of total model depth."
   ]
  },
  {
   "cell_type": "code",
   "execution_count": null,
   "metadata": {
    "id": "Qfls0yoBv8rX"
   },
   "outputs": [],
   "source": [
    "from model_metadata import * # functions for the collection of metadata"
   ]
  },
  {
   "cell_type": "code",
   "execution_count": null,
   "metadata": {
    "id": "IjFcy5pHXdfP"
   },
   "outputs": [],
   "source": [
    "# the get_model_metadata function requires passing in our model_option dictionary (with model_name, train_type, et cetera)...\n",
    "model_metadata = get_model_metadata(model_options[model_string])"
   ]
  },
  {
   "cell_type": "markdown",
   "metadata": {
    "id": "Wm06IoSAQEWx"
   },
   "source": [
    "The dataframe that results from our model metadata collection will have rows that correspond to individual layers, and columns that correspond to the kinds of information we collect."
   ]
  },
  {
   "cell_type": "code",
   "execution_count": null,
   "metadata": {
    "id": "fGO66ZWnXpn-"
   },
   "outputs": [],
   "source": [
    "model_metadata.iloc[np.r_[0:3,-3:0]] # the first 3 and last 3 entries in the outputted dataframe"
   ]
  },
  {
   "cell_type": "markdown",
   "metadata": {
    "id": "Tq6B_bOsrNdk"
   },
   "source": [
    "## Testing Predictive Power"
   ]
  },
  {
   "cell_type": "markdown",
   "metadata": {
    "id": "Sc4e8twE_qp-"
   },
   "source": [
    "To test the predictive power of our model, we first need the responses we're predicting. In this case, we'll be predicting average ratings of beauty, arousal and valence for the set of images in the [Oasis](http://www.benedekkurdi.com/) database."
   ]
  },
  {
   "cell_type": "code",
   "execution_count": null,
   "metadata": {
    "id": "qJ0-i_2-cDkE"
   },
   "outputs": [],
   "source": [
    "response_data = pd.read_csv('oasis_image_ratings.csv').rename(columns={'category': 'image_type'})\n",
    "response_data['image_name'] = response_data['theme'] + '.jpg'"
   ]
  },
  {
   "cell_type": "code",
   "execution_count": null,
   "metadata": {
    "colab": {
     "base_uri": "https://localhost:8080/",
     "height": 204
    },
    "executionInfo": {
     "elapsed": 5,
     "status": "ok",
     "timestamp": 1626729328949,
     "user": {
      "displayName": "Colin Conwell",
      "photoUrl": "https://lh3.googleusercontent.com/a-/AOh14Ggm_fma10pV5e9Wj9dIfmO05aYb7xEqHgCdk5Bqyw=s64",
      "userId": "10191446591455187613"
     },
     "user_tz": 240
    },
    "id": "-1DlwOK80kgE",
    "outputId": "392cab96-81c0-4240-f9a6-51178c8b147d"
   },
   "outputs": [
    {
     "data": {
      "text/html": [
       "<div>\n",
       "<style scoped>\n",
       "    .dataframe tbody tr th:only-of-type {\n",
       "        vertical-align: middle;\n",
       "    }\n",
       "\n",
       "    .dataframe tbody tr th {\n",
       "        vertical-align: top;\n",
       "    }\n",
       "\n",
       "    .dataframe thead th {\n",
       "        text-align: right;\n",
       "    }\n",
       "</style>\n",
       "<table border=\"1\" class=\"dataframe\">\n",
       "  <thead>\n",
       "    <tr style=\"text-align: right;\">\n",
       "      <th></th>\n",
       "      <th>item</th>\n",
       "      <th>theme</th>\n",
       "      <th>image_type</th>\n",
       "      <th>valence</th>\n",
       "      <th>arousal</th>\n",
       "      <th>beauty</th>\n",
       "      <th>image_name</th>\n",
       "    </tr>\n",
       "  </thead>\n",
       "  <tbody>\n",
       "    <tr>\n",
       "      <th>252</th>\n",
       "      <td>253</td>\n",
       "      <td>Dog3</td>\n",
       "      <td>Animal</td>\n",
       "      <td>5.75</td>\n",
       "      <td>3.52</td>\n",
       "      <td>5.11</td>\n",
       "      <td>Dog3.jpg</td>\n",
       "    </tr>\n",
       "    <tr>\n",
       "      <th>731</th>\n",
       "      <td>732</td>\n",
       "      <td>Shark7</td>\n",
       "      <td>Animal</td>\n",
       "      <td>3.81</td>\n",
       "      <td>4.28</td>\n",
       "      <td>4.99</td>\n",
       "      <td>Shark7.jpg</td>\n",
       "    </tr>\n",
       "    <tr>\n",
       "      <th>891</th>\n",
       "      <td>892</td>\n",
       "      <td>Yarn2</td>\n",
       "      <td>Object</td>\n",
       "      <td>4.11</td>\n",
       "      <td>2.17</td>\n",
       "      <td>3.86</td>\n",
       "      <td>Yarn2.jpg</td>\n",
       "    </tr>\n",
       "    <tr>\n",
       "      <th>381</th>\n",
       "      <td>382</td>\n",
       "      <td>Garbagedump4</td>\n",
       "      <td>Scene</td>\n",
       "      <td>1.64</td>\n",
       "      <td>3.79</td>\n",
       "      <td>1.94</td>\n",
       "      <td>Garbagedump4.jpg</td>\n",
       "    </tr>\n",
       "    <tr>\n",
       "      <th>189</th>\n",
       "      <td>190</td>\n",
       "      <td>Couple8</td>\n",
       "      <td>Person</td>\n",
       "      <td>5.76</td>\n",
       "      <td>4.16</td>\n",
       "      <td>4.82</td>\n",
       "      <td>Couple8.jpg</td>\n",
       "    </tr>\n",
       "  </tbody>\n",
       "</table>\n",
       "</div>"
      ],
      "text/plain": [
       "     item         theme image_type  valence  arousal  beauty        image_name\n",
       "252   253          Dog3     Animal     5.75     3.52    5.11          Dog3.jpg\n",
       "731   732        Shark7     Animal     3.81     4.28    4.99        Shark7.jpg\n",
       "891   892         Yarn2     Object     4.11     2.17    3.86         Yarn2.jpg\n",
       "381   382  Garbagedump4      Scene     1.64     3.79    1.94  Garbagedump4.jpg\n",
       "189   190       Couple8     Person     5.76     4.16    4.82       Couple8.jpg"
      ]
     },
     "execution_count": 28,
     "metadata": {
      "tags": []
     },
     "output_type": "execute_result"
    }
   ],
   "source": [
    "response_data.sample(5)"
   ]
  },
  {
   "cell_type": "markdown",
   "metadata": {
    "id": "B_zmmUu8AMra"
   },
   "source": [
    "Given the computational limitations of Colab, we'll target just a subset of the full set of layers in the model:"
   ]
  },
  {
   "cell_type": "code",
   "execution_count": null,
   "metadata": {
    "id": "uSjmK0BSgc5O"
   },
   "outputs": [],
   "source": [
    "# for simplicity, let's get the layers 33%, 66% and 99% of the way through the model\n",
    "\n",
    "target_layers = [] \n",
    "num_layers = len(model_layer_names)\n",
    "layer_depths = list(range(0,100,33))[1:]\n",
    "for layer_depth in layer_depths:\n",
    "    target_layer_i = round(num_layers * layer_depth / 100)\n",
    "    target_layers.append(model_layer_names[target_layer_i])"
   ]
  },
  {
   "cell_type": "code",
   "execution_count": null,
   "metadata": {
    "colab": {
     "base_uri": "https://localhost:8080/"
    },
    "executionInfo": {
     "elapsed": 289,
     "status": "ok",
     "timestamp": 1626729368040,
     "user": {
      "displayName": "Colin Conwell",
      "photoUrl": "https://lh3.googleusercontent.com/a-/AOh14Ggm_fma10pV5e9Wj9dIfmO05aYb7xEqHgCdk5Bqyw=s64",
      "userId": "10191446591455187613"
     },
     "user_tz": 240
    },
    "id": "pJT1tvcJ7XHB",
    "outputId": "29267ade-c95a-4426-b854-20ef1683c035"
   },
   "outputs": [
    {
     "data": {
      "text/plain": [
       "['Conv2d-1', 'GELU-3', 'Linear-24', 'LayerNorm-19', 'VisionTransformer-1']"
      ]
     },
     "execution_count": 32,
     "metadata": {
      "tags": []
     },
     "output_type": "execute_result"
    }
   ],
   "source": [
    "target_layers"
   ]
  },
  {
   "cell_type": "code",
   "execution_count": null,
   "metadata": {
    "colab": {
     "base_uri": "https://localhost:8080/"
    },
    "executionInfo": {
     "elapsed": 269,
     "status": "ok",
     "timestamp": 1626732555899,
     "user": {
      "displayName": "Colin Conwell",
      "photoUrl": "https://lh3.googleusercontent.com/a-/AOh14Ggm_fma10pV5e9Wj9dIfmO05aYb7xEqHgCdk5Bqyw=s64",
      "userId": "10191446591455187613"
     },
     "user_tz": 240
    },
    "id": "PeWVKBAsoI8l",
    "outputId": "5c25343e-a879-4cc3-c34d-b845539badf0"
   },
   "outputs": [
    {
     "data": {
      "text/plain": [
       "{'Conv2d-1': array([[ 0.00187838, -0.0708836 , -0.11416633, ..., -0.01742084,\n",
       "         -0.1236261 ,  0.00230726],\n",
       "        [-0.01941709, -0.00574269, -0.01190965, ..., -0.01601087,\n",
       "         -0.01473051, -0.01606777],\n",
       "        [ 0.04031986,  0.05482327,  0.00289199, ...,  0.0700381 ,\n",
       "          0.04664999,  0.05449475]], dtype=float32),\n",
       " 'GELU-3': array([[-0.02075328, -0.02137932, -0.07954747, ..., -0.00255775,\n",
       "         -0.05180268, -0.12931094],\n",
       "        [-0.02900665, -0.01645028, -0.08610754, ..., -0.14914262,\n",
       "         -0.06431943, -0.15866907],\n",
       "        [-0.02454468, -0.01818884, -0.07622775, ..., -0.01176194,\n",
       "          0.46557623, -0.14673372]], dtype=float32),\n",
       " 'LayerNorm-19': array([[ 2.3951828 ,  1.0577843 ,  2.5390656 , ...,  0.7969678 ,\n",
       "         -1.215558  , -1.8283179 ],\n",
       "        [ 0.74234086,  0.04526189,  1.9323212 , ...,  4.094978  ,\n",
       "         -0.8495359 , -0.83542866],\n",
       "        [ 1.7665707 , -0.35638916,  2.8445406 , ...,  1.383119  ,\n",
       "         -0.67638206, -0.16712146]], dtype=float32),\n",
       " 'Linear-24': array([[ 0.01733479, -0.01464043, -0.0447042 , ..., -0.00921281,\n",
       "         -0.16551545,  0.0231255 ],\n",
       "        [ 0.00974149, -0.03282409, -0.00172959, ...,  0.07208128,\n",
       "         -0.05036447, -0.08816195],\n",
       "        [ 0.01036888, -0.0135725 , -0.05477188, ...,  0.1591245 ,\n",
       "         -0.12621285, -0.09657646]], dtype=float32),\n",
       " 'VisionTransformer-1': array([[8.33169   , 6.78326   , 2.2118068 , ..., 1.5854173 , 1.8056577 ,\n",
       "         4.2241306 ],\n",
       "        [2.345394  , 0.36546633, 1.6877968 , ..., 1.64317   , 3.7744517 ,\n",
       "         0.788819  ],\n",
       "        [9.8432865 , 3.3729663 , 3.3170962 , ..., 3.6803708 , 5.0455494 ,\n",
       "         3.0544658 ]], dtype=float32)}"
      ]
     },
     "execution_count": 44,
     "metadata": {
      "tags": []
     },
     "output_type": "execute_result"
    }
   ],
   "source": [
    "get_all_feature_maps(model, model_inputs, layers_to_retain = target_layers)"
   ]
  },
  {
   "cell_type": "markdown",
   "metadata": {
    "id": "UOjvM1ikAk16"
   },
   "source": [
    "Having tested our feature extraction procedure above, we can now extract features for all images from each of our target layers."
   ]
  },
  {
   "cell_type": "code",
   "execution_count": null,
   "metadata": {
    "colab": {
     "base_uri": "https://localhost:8080/",
     "height": 66,
     "referenced_widgets": [
      "be4128cad94c45b49aa6eb44923dcd06",
      "182416f2a8224c4aa6dd027b08d88190",
      "a952f53090c249499030da313cbc14d2",
      "e25d0fedb8b14581b525c5591f165cc7",
      "5907bf765f4b440e900e647ce2b6a2ca",
      "44bbc061776a42a09caa8fe968927a83",
      "8c63280d80ed415594c54f97c9c9be23",
      "6d3437dabd934921a1a1891f91f87634"
     ]
    },
    "executionInfo": {
     "elapsed": 18401,
     "status": "ok",
     "timestamp": 1626717451208,
     "user": {
      "displayName": "Colin Conwell",
      "photoUrl": "https://lh3.googleusercontent.com/a-/AOh14Ggm_fma10pV5e9Wj9dIfmO05aYb7xEqHgCdk5Bqyw=s64",
      "userId": "10191446591455187613"
     },
     "user_tz": 240
    },
    "id": "vwt_C9B5gAJX",
    "outputId": "2f017f5c-93cc-45c9-cf78-1d32ada5f866"
   },
   "outputs": [
    {
     "data": {
      "application/vnd.jupyter.widget-view+json": {
       "model_id": "be4128cad94c45b49aa6eb44923dcd06",
       "version_major": 2,
       "version_minor": 0
      },
      "text/plain": [
       "HBox(children=(FloatProgress(value=0.0, description='Feature Extraction (Batch)', max=15.0, style=ProgressStyl…"
      ]
     },
     "metadata": {
      "tags": []
     },
     "output_type": "display_data"
    },
    {
     "name": "stdout",
     "output_type": "stream",
     "text": [
      "\n"
     ]
    }
   ],
   "source": [
    "#notice that we now pass the dataloader directly into the feature_extraction function\n",
    "feature_maps = get_all_feature_maps(model, image_loader, layers_to_retain = target_layers)"
   ]
  },
  {
   "cell_type": "code",
   "execution_count": null,
   "metadata": {
    "colab": {
     "base_uri": "https://localhost:8080/",
     "height": 66,
     "referenced_widgets": [
      "b60b2bc8a0f347018e0c429ebad5aeb2",
      "e5b3c0811bee456cba0d656d0f7bb30e",
      "335f16ff0a974b7b8666dda541a12020",
      "8401fcdb88f14bb28a80dc119f28c2b2",
      "441580ae2dfd433eac7b3dc1e8690f3b",
      "aa4b0989a0334fc8aeb21e9cb8017f4f",
      "5ce112a3a4cc478a911a301889b4642a",
      "1ff78252f3f34956b382d1515e63f1d9"
     ]
    },
    "executionInfo": {
     "elapsed": 93045,
     "status": "ok",
     "timestamp": 1626716792494,
     "user": {
      "displayName": "Colin Conwell",
      "photoUrl": "https://lh3.googleusercontent.com/a-/AOh14Ggm_fma10pV5e9Wj9dIfmO05aYb7xEqHgCdk5Bqyw=s64",
      "userId": "10191446591455187613"
     },
     "user_tz": 240
    },
    "id": "D1MhnP0R15r5",
    "outputId": "5c140e9e-2eaa-4af0-a9ce-10a62e49d8a4"
   },
   "outputs": [
    {
     "data": {
      "application/vnd.jupyter.widget-view+json": {
       "model_id": "b60b2bc8a0f347018e0c429ebad5aeb2",
       "version_major": 2,
       "version_minor": 0
      },
      "text/plain": [
       "HBox(children=(FloatProgress(value=0.0, description='Regression (Layer)', max=4.0, style=ProgressStyle(descrip…"
      ]
     },
     "metadata": {
      "tags": []
     },
     "output_type": "display_data"
    },
    {
     "name": "stdout",
     "output_type": "stream",
     "text": [
      "\n"
     ]
    }
   ],
   "source": [
    "from sklearn.linear_model import RidgeCV\n",
    "from scipy.stats import pearsonr\n",
    "\n",
    "reg_dictlist = []\n",
    "# first, we iterate through each of our target layers,\n",
    "# subsetting the features from those layers as our regressors\n",
    "for model_layer in tqdm(feature_maps, desc = 'Regression (Layer)'):\n",
    "  model_layer_index = model_layer_names.index(model_layer)\n",
    "  target_features = feature_maps[model_layer]\n",
    "\n",
    "  # we then iterate through each kind of rating (our regrassand)\n",
    "  measurements = [column for column in response_data.columns if column in ['arousal','beauty','valence']]\n",
    "  for measurement in measurements:\n",
    "      # we could further subdivide by the kind of image we're predicting, but here we just use a combination of all\n",
    "      for image_type in ['Combo']:\n",
    "          if image_type != 'Combo':\n",
    "              response_data_sub = response_data[response_data['image_type'] == image_type]\n",
    "          if image_type == 'Combo':\n",
    "              response_data_sub = response_data\n",
    "\n",
    "          # get the indices of our response data frame corresponding to our target images\n",
    "          image_indices = response_data_sub.index.to_numpy()\n",
    "\n",
    "          y = response_data_sub[measurement].to_numpy() # regressand\n",
    "          X = target_features[image_indices,:] # regressors 9\n",
    "          alpha_values = np.logspace(-1,5,25).tolist()\n",
    "          regression = RidgeCV(alphas=alpha_values, store_cv_values=True,\n",
    "                                scoring='explained_variance').fit(X,y)\n",
    "          \n",
    "          ridge_gcv_score, ridge_gcv_alpha = regression.best_score_, regression.alpha_\n",
    "          y_pred = regression.cv_values_[:, alpha_values.index(ridge_gcv_alpha)]\n",
    "        \n",
    "          reg_dictlist.append({'model': model_name, 'train_type': train_type, \n",
    "                                'model_layer_index': model_layer_index+1,\n",
    "                                'model_layer': model_layer,\n",
    "                                'measurement': measurement,\n",
    "                                'image_type': image_type,\n",
    "                                'score': ridge_gcv_score, \n",
    "                                'penalty': regression.alpha_})\n",
    "          \n",
    "results = pd.DataFrame(reg_dictlist)\n",
    "output_file = '{}_{}_oasis_scores.csv'.format(model_name, train_type)"
   ]
  },
  {
   "cell_type": "code",
   "execution_count": null,
   "metadata": {
    "colab": {
     "base_uri": "https://localhost:8080/",
     "height": 421
    },
    "executionInfo": {
     "elapsed": 209,
     "status": "ok",
     "timestamp": 1626718176850,
     "user": {
      "displayName": "Colin Conwell",
      "photoUrl": "https://lh3.googleusercontent.com/a-/AOh14Ggm_fma10pV5e9Wj9dIfmO05aYb7xEqHgCdk5Bqyw=s64",
      "userId": "10191446591455187613"
     },
     "user_tz": 240
    },
    "id": "1GIjTrvL9XDu",
    "outputId": "41370180-b490-4cec-f53a-3e3aaafe8fb2"
   },
   "outputs": [
    {
     "data": {
      "text/html": [
       "<div>\n",
       "<style scoped>\n",
       "    .dataframe tbody tr th:only-of-type {\n",
       "        vertical-align: middle;\n",
       "    }\n",
       "\n",
       "    .dataframe tbody tr th {\n",
       "        vertical-align: top;\n",
       "    }\n",
       "\n",
       "    .dataframe thead th {\n",
       "        text-align: right;\n",
       "    }\n",
       "</style>\n",
       "<table border=\"1\" class=\"dataframe\">\n",
       "  <thead>\n",
       "    <tr style=\"text-align: right;\">\n",
       "      <th></th>\n",
       "      <th>model</th>\n",
       "      <th>train_type</th>\n",
       "      <th>model_layer_index</th>\n",
       "      <th>model_layer</th>\n",
       "      <th>measurement</th>\n",
       "      <th>image_type</th>\n",
       "      <th>score</th>\n",
       "      <th>penalty</th>\n",
       "    </tr>\n",
       "  </thead>\n",
       "  <tbody>\n",
       "    <tr>\n",
       "      <th>0</th>\n",
       "      <td>dino_vits8</td>\n",
       "      <td>imagenet</td>\n",
       "      <td>1</td>\n",
       "      <td>Conv2d-1</td>\n",
       "      <td>valence</td>\n",
       "      <td>Combo</td>\n",
       "      <td>0.009970</td>\n",
       "      <td>10000.00000</td>\n",
       "    </tr>\n",
       "    <tr>\n",
       "      <th>1</th>\n",
       "      <td>dino_vits8</td>\n",
       "      <td>imagenet</td>\n",
       "      <td>1</td>\n",
       "      <td>Conv2d-1</td>\n",
       "      <td>arousal</td>\n",
       "      <td>Combo</td>\n",
       "      <td>0.019535</td>\n",
       "      <td>17782.79410</td>\n",
       "    </tr>\n",
       "    <tr>\n",
       "      <th>2</th>\n",
       "      <td>dino_vits8</td>\n",
       "      <td>imagenet</td>\n",
       "      <td>1</td>\n",
       "      <td>Conv2d-1</td>\n",
       "      <td>beauty</td>\n",
       "      <td>Combo</td>\n",
       "      <td>0.025297</td>\n",
       "      <td>3162.27766</td>\n",
       "    </tr>\n",
       "    <tr>\n",
       "      <th>3</th>\n",
       "      <td>dino_vits8</td>\n",
       "      <td>imagenet</td>\n",
       "      <td>2</td>\n",
       "      <td>PatchEmbed-1</td>\n",
       "      <td>valence</td>\n",
       "      <td>Combo</td>\n",
       "      <td>0.009970</td>\n",
       "      <td>10000.00000</td>\n",
       "    </tr>\n",
       "    <tr>\n",
       "      <th>4</th>\n",
       "      <td>dino_vits8</td>\n",
       "      <td>imagenet</td>\n",
       "      <td>2</td>\n",
       "      <td>PatchEmbed-1</td>\n",
       "      <td>arousal</td>\n",
       "      <td>Combo</td>\n",
       "      <td>0.019535</td>\n",
       "      <td>17782.79410</td>\n",
       "    </tr>\n",
       "    <tr>\n",
       "      <th>5</th>\n",
       "      <td>dino_vits8</td>\n",
       "      <td>imagenet</td>\n",
       "      <td>2</td>\n",
       "      <td>PatchEmbed-1</td>\n",
       "      <td>beauty</td>\n",
       "      <td>Combo</td>\n",
       "      <td>0.025297</td>\n",
       "      <td>3162.27766</td>\n",
       "    </tr>\n",
       "    <tr>\n",
       "      <th>6</th>\n",
       "      <td>dino_vits8</td>\n",
       "      <td>imagenet</td>\n",
       "      <td>3</td>\n",
       "      <td>Dropout-1</td>\n",
       "      <td>valence</td>\n",
       "      <td>Combo</td>\n",
       "      <td>0.009970</td>\n",
       "      <td>10000.00000</td>\n",
       "    </tr>\n",
       "    <tr>\n",
       "      <th>7</th>\n",
       "      <td>dino_vits8</td>\n",
       "      <td>imagenet</td>\n",
       "      <td>3</td>\n",
       "      <td>Dropout-1</td>\n",
       "      <td>arousal</td>\n",
       "      <td>Combo</td>\n",
       "      <td>0.019535</td>\n",
       "      <td>17782.79410</td>\n",
       "    </tr>\n",
       "    <tr>\n",
       "      <th>8</th>\n",
       "      <td>dino_vits8</td>\n",
       "      <td>imagenet</td>\n",
       "      <td>3</td>\n",
       "      <td>Dropout-1</td>\n",
       "      <td>beauty</td>\n",
       "      <td>Combo</td>\n",
       "      <td>0.025297</td>\n",
       "      <td>3162.27766</td>\n",
       "    </tr>\n",
       "    <tr>\n",
       "      <th>9</th>\n",
       "      <td>dino_vits8</td>\n",
       "      <td>imagenet</td>\n",
       "      <td>4</td>\n",
       "      <td>VisionTransformer-1</td>\n",
       "      <td>valence</td>\n",
       "      <td>Combo</td>\n",
       "      <td>0.403091</td>\n",
       "      <td>10000.00000</td>\n",
       "    </tr>\n",
       "    <tr>\n",
       "      <th>10</th>\n",
       "      <td>dino_vits8</td>\n",
       "      <td>imagenet</td>\n",
       "      <td>4</td>\n",
       "      <td>VisionTransformer-1</td>\n",
       "      <td>arousal</td>\n",
       "      <td>Combo</td>\n",
       "      <td>0.449961</td>\n",
       "      <td>10000.00000</td>\n",
       "    </tr>\n",
       "    <tr>\n",
       "      <th>11</th>\n",
       "      <td>dino_vits8</td>\n",
       "      <td>imagenet</td>\n",
       "      <td>4</td>\n",
       "      <td>VisionTransformer-1</td>\n",
       "      <td>beauty</td>\n",
       "      <td>Combo</td>\n",
       "      <td>0.549617</td>\n",
       "      <td>10000.00000</td>\n",
       "    </tr>\n",
       "  </tbody>\n",
       "</table>\n",
       "</div>"
      ],
      "text/plain": [
       "         model train_type  model_layer_index  ... image_type     score      penalty\n",
       "0   dino_vits8   imagenet                  1  ...      Combo  0.009970  10000.00000\n",
       "1   dino_vits8   imagenet                  1  ...      Combo  0.019535  17782.79410\n",
       "2   dino_vits8   imagenet                  1  ...      Combo  0.025297   3162.27766\n",
       "3   dino_vits8   imagenet                  2  ...      Combo  0.009970  10000.00000\n",
       "4   dino_vits8   imagenet                  2  ...      Combo  0.019535  17782.79410\n",
       "5   dino_vits8   imagenet                  2  ...      Combo  0.025297   3162.27766\n",
       "6   dino_vits8   imagenet                  3  ...      Combo  0.009970  10000.00000\n",
       "7   dino_vits8   imagenet                  3  ...      Combo  0.019535  17782.79410\n",
       "8   dino_vits8   imagenet                  3  ...      Combo  0.025297   3162.27766\n",
       "9   dino_vits8   imagenet                  4  ...      Combo  0.403091  10000.00000\n",
       "10  dino_vits8   imagenet                  4  ...      Combo  0.449961  10000.00000\n",
       "11  dino_vits8   imagenet                  4  ...      Combo  0.549617  10000.00000\n",
       "\n",
       "[12 rows x 8 columns]"
      ]
     },
     "execution_count": 58,
     "metadata": {
      "tags": []
     },
     "output_type": "execute_result"
    }
   ],
   "source": [
    "results"
   ]
  },
  {
   "cell_type": "code",
   "execution_count": null,
   "metadata": {
    "id": "BNQjAmUL4Ip7"
   },
   "outputs": [],
   "source": [
    "results.to_csv(output_file, index = None)"
   ]
  },
  {
   "cell_type": "code",
   "execution_count": null,
   "metadata": {
    "colab": {
     "base_uri": "https://localhost:8080/",
     "height": 17
    },
    "executionInfo": {
     "elapsed": 208,
     "status": "ok",
     "timestamp": 1626718186137,
     "user": {
      "displayName": "Colin Conwell",
      "photoUrl": "https://lh3.googleusercontent.com/a-/AOh14Ggm_fma10pV5e9Wj9dIfmO05aYb7xEqHgCdk5Bqyw=s64",
      "userId": "10191446591455187613"
     },
     "user_tz": 240
    },
    "id": "glkv1yxn6xED",
    "outputId": "c5416110-174a-4b47-ce3d-88c36cdd6429"
   },
   "outputs": [
    {
     "data": {
      "application/javascript": [
       "\n",
       "    async function download(id, filename, size) {\n",
       "      if (!google.colab.kernel.accessAllowed) {\n",
       "        return;\n",
       "      }\n",
       "      const div = document.createElement('div');\n",
       "      const label = document.createElement('label');\n",
       "      label.textContent = `Downloading \"${filename}\": `;\n",
       "      div.appendChild(label);\n",
       "      const progress = document.createElement('progress');\n",
       "      progress.max = size;\n",
       "      div.appendChild(progress);\n",
       "      document.body.appendChild(div);\n",
       "\n",
       "      const buffers = [];\n",
       "      let downloaded = 0;\n",
       "\n",
       "      const channel = await google.colab.kernel.comms.open(id);\n",
       "      // Send a message to notify the kernel that we're ready.\n",
       "      channel.send({})\n",
       "\n",
       "      for await (const message of channel.messages) {\n",
       "        // Send a message to notify the kernel that we're ready.\n",
       "        channel.send({})\n",
       "        if (message.buffers) {\n",
       "          for (const buffer of message.buffers) {\n",
       "            buffers.push(buffer);\n",
       "            downloaded += buffer.byteLength;\n",
       "            progress.value = downloaded;\n",
       "          }\n",
       "        }\n",
       "      }\n",
       "      const blob = new Blob(buffers, {type: 'application/binary'});\n",
       "      const a = document.createElement('a');\n",
       "      a.href = window.URL.createObjectURL(blob);\n",
       "      a.download = filename;\n",
       "      div.appendChild(a);\n",
       "      a.click();\n",
       "      div.remove();\n",
       "    }\n",
       "  "
      ],
      "text/plain": [
       "<IPython.core.display.Javascript object>"
      ]
     },
     "metadata": {
      "tags": []
     },
     "output_type": "display_data"
    },
    {
     "data": {
      "application/javascript": [
       "download(\"download_239ba30f-3aa0-4860-999d-764d231c5466\", \"dino_vits8_imagenet_oasis_scores.csv\", 1072)"
      ],
      "text/plain": [
       "<IPython.core.display.Javascript object>"
      ]
     },
     "metadata": {
      "tags": []
     },
     "output_type": "display_data"
    }
   ],
   "source": [
    "from google.colab import files\n",
    "files.download(output_file)"
   ]
  }
 ],
 "metadata": {
  "colab": {
   "collapsed_sections": [],
   "name": "deep_model_diver_testing.ipynb",
   "provenance": [
    {
     "file_id": "1P98vEXJZK5tyaJL9XjdIzokMLKj7XFNz",
     "timestamp": 1626732946859
    }
   ]
  },
  "kernelspec": {
   "display_name": "Python 3",
   "language": "python",
   "name": "python3"
  },
  "language_info": {
   "codemirror_mode": {
    "name": "ipython",
    "version": 3
   },
   "file_extension": ".py",
   "mimetype": "text/x-python",
   "name": "python",
   "nbconvert_exporter": "python",
   "pygments_lexer": "ipython3",
   "version": "3.7.8"
  },
  "toc-autonumbering": false,
  "widgets": {
   "application/vnd.jupyter.widget-state+json": {
    "182416f2a8224c4aa6dd027b08d88190": {
     "model_module": "@jupyter-widgets/base",
     "model_name": "LayoutModel",
     "state": {
      "_model_module": "@jupyter-widgets/base",
      "_model_module_version": "1.2.0",
      "_model_name": "LayoutModel",
      "_view_count": null,
      "_view_module": "@jupyter-widgets/base",
      "_view_module_version": "1.2.0",
      "_view_name": "LayoutView",
      "align_content": null,
      "align_items": null,
      "align_self": null,
      "border": null,
      "bottom": null,
      "display": null,
      "flex": null,
      "flex_flow": null,
      "grid_area": null,
      "grid_auto_columns": null,
      "grid_auto_flow": null,
      "grid_auto_rows": null,
      "grid_column": null,
      "grid_gap": null,
      "grid_row": null,
      "grid_template_areas": null,
      "grid_template_columns": null,
      "grid_template_rows": null,
      "height": null,
      "justify_content": null,
      "justify_items": null,
      "left": null,
      "margin": null,
      "max_height": null,
      "max_width": null,
      "min_height": null,
      "min_width": null,
      "object_fit": null,
      "object_position": null,
      "order": null,
      "overflow": null,
      "overflow_x": null,
      "overflow_y": null,
      "padding": null,
      "right": null,
      "top": null,
      "visibility": null,
      "width": null
     }
    },
    "1ff78252f3f34956b382d1515e63f1d9": {
     "model_module": "@jupyter-widgets/base",
     "model_name": "LayoutModel",
     "state": {
      "_model_module": "@jupyter-widgets/base",
      "_model_module_version": "1.2.0",
      "_model_name": "LayoutModel",
      "_view_count": null,
      "_view_module": "@jupyter-widgets/base",
      "_view_module_version": "1.2.0",
      "_view_name": "LayoutView",
      "align_content": null,
      "align_items": null,
      "align_self": null,
      "border": null,
      "bottom": null,
      "display": null,
      "flex": null,
      "flex_flow": null,
      "grid_area": null,
      "grid_auto_columns": null,
      "grid_auto_flow": null,
      "grid_auto_rows": null,
      "grid_column": null,
      "grid_gap": null,
      "grid_row": null,
      "grid_template_areas": null,
      "grid_template_columns": null,
      "grid_template_rows": null,
      "height": null,
      "justify_content": null,
      "justify_items": null,
      "left": null,
      "margin": null,
      "max_height": null,
      "max_width": null,
      "min_height": null,
      "min_width": null,
      "object_fit": null,
      "object_position": null,
      "order": null,
      "overflow": null,
      "overflow_x": null,
      "overflow_y": null,
      "padding": null,
      "right": null,
      "top": null,
      "visibility": null,
      "width": null
     }
    },
    "335f16ff0a974b7b8666dda541a12020": {
     "model_module": "@jupyter-widgets/controls",
     "model_name": "FloatProgressModel",
     "state": {
      "_dom_classes": [],
      "_model_module": "@jupyter-widgets/controls",
      "_model_module_version": "1.5.0",
      "_model_name": "FloatProgressModel",
      "_view_count": null,
      "_view_module": "@jupyter-widgets/controls",
      "_view_module_version": "1.5.0",
      "_view_name": "ProgressView",
      "bar_style": "success",
      "description": "Regression (Layer): 100%",
      "description_tooltip": null,
      "layout": "IPY_MODEL_aa4b0989a0334fc8aeb21e9cb8017f4f",
      "max": 4,
      "min": 0,
      "orientation": "horizontal",
      "style": "IPY_MODEL_441580ae2dfd433eac7b3dc1e8690f3b",
      "value": 4
     }
    },
    "441580ae2dfd433eac7b3dc1e8690f3b": {
     "model_module": "@jupyter-widgets/controls",
     "model_name": "ProgressStyleModel",
     "state": {
      "_model_module": "@jupyter-widgets/controls",
      "_model_module_version": "1.5.0",
      "_model_name": "ProgressStyleModel",
      "_view_count": null,
      "_view_module": "@jupyter-widgets/base",
      "_view_module_version": "1.2.0",
      "_view_name": "StyleView",
      "bar_color": null,
      "description_width": "initial"
     }
    },
    "44bbc061776a42a09caa8fe968927a83": {
     "model_module": "@jupyter-widgets/base",
     "model_name": "LayoutModel",
     "state": {
      "_model_module": "@jupyter-widgets/base",
      "_model_module_version": "1.2.0",
      "_model_name": "LayoutModel",
      "_view_count": null,
      "_view_module": "@jupyter-widgets/base",
      "_view_module_version": "1.2.0",
      "_view_name": "LayoutView",
      "align_content": null,
      "align_items": null,
      "align_self": null,
      "border": null,
      "bottom": null,
      "display": null,
      "flex": null,
      "flex_flow": null,
      "grid_area": null,
      "grid_auto_columns": null,
      "grid_auto_flow": null,
      "grid_auto_rows": null,
      "grid_column": null,
      "grid_gap": null,
      "grid_row": null,
      "grid_template_areas": null,
      "grid_template_columns": null,
      "grid_template_rows": null,
      "height": null,
      "justify_content": null,
      "justify_items": null,
      "left": null,
      "margin": null,
      "max_height": null,
      "max_width": null,
      "min_height": null,
      "min_width": null,
      "object_fit": null,
      "object_position": null,
      "order": null,
      "overflow": null,
      "overflow_x": null,
      "overflow_y": null,
      "padding": null,
      "right": null,
      "top": null,
      "visibility": null,
      "width": null
     }
    },
    "5907bf765f4b440e900e647ce2b6a2ca": {
     "model_module": "@jupyter-widgets/controls",
     "model_name": "ProgressStyleModel",
     "state": {
      "_model_module": "@jupyter-widgets/controls",
      "_model_module_version": "1.5.0",
      "_model_name": "ProgressStyleModel",
      "_view_count": null,
      "_view_module": "@jupyter-widgets/base",
      "_view_module_version": "1.2.0",
      "_view_name": "StyleView",
      "bar_color": null,
      "description_width": "initial"
     }
    },
    "5ce112a3a4cc478a911a301889b4642a": {
     "model_module": "@jupyter-widgets/controls",
     "model_name": "DescriptionStyleModel",
     "state": {
      "_model_module": "@jupyter-widgets/controls",
      "_model_module_version": "1.5.0",
      "_model_name": "DescriptionStyleModel",
      "_view_count": null,
      "_view_module": "@jupyter-widgets/base",
      "_view_module_version": "1.2.0",
      "_view_name": "StyleView",
      "description_width": ""
     }
    },
    "6d3437dabd934921a1a1891f91f87634": {
     "model_module": "@jupyter-widgets/base",
     "model_name": "LayoutModel",
     "state": {
      "_model_module": "@jupyter-widgets/base",
      "_model_module_version": "1.2.0",
      "_model_name": "LayoutModel",
      "_view_count": null,
      "_view_module": "@jupyter-widgets/base",
      "_view_module_version": "1.2.0",
      "_view_name": "LayoutView",
      "align_content": null,
      "align_items": null,
      "align_self": null,
      "border": null,
      "bottom": null,
      "display": null,
      "flex": null,
      "flex_flow": null,
      "grid_area": null,
      "grid_auto_columns": null,
      "grid_auto_flow": null,
      "grid_auto_rows": null,
      "grid_column": null,
      "grid_gap": null,
      "grid_row": null,
      "grid_template_areas": null,
      "grid_template_columns": null,
      "grid_template_rows": null,
      "height": null,
      "justify_content": null,
      "justify_items": null,
      "left": null,
      "margin": null,
      "max_height": null,
      "max_width": null,
      "min_height": null,
      "min_width": null,
      "object_fit": null,
      "object_position": null,
      "order": null,
      "overflow": null,
      "overflow_x": null,
      "overflow_y": null,
      "padding": null,
      "right": null,
      "top": null,
      "visibility": null,
      "width": null
     }
    },
    "8401fcdb88f14bb28a80dc119f28c2b2": {
     "model_module": "@jupyter-widgets/controls",
     "model_name": "HTMLModel",
     "state": {
      "_dom_classes": [],
      "_model_module": "@jupyter-widgets/controls",
      "_model_module_version": "1.5.0",
      "_model_name": "HTMLModel",
      "_view_count": null,
      "_view_module": "@jupyter-widgets/controls",
      "_view_module_version": "1.5.0",
      "_view_name": "HTMLView",
      "description": "",
      "description_tooltip": null,
      "layout": "IPY_MODEL_1ff78252f3f34956b382d1515e63f1d9",
      "placeholder": "​",
      "style": "IPY_MODEL_5ce112a3a4cc478a911a301889b4642a",
      "value": " 4/4 [01:37&lt;00:00, 24.25s/it]"
     }
    },
    "8c63280d80ed415594c54f97c9c9be23": {
     "model_module": "@jupyter-widgets/controls",
     "model_name": "DescriptionStyleModel",
     "state": {
      "_model_module": "@jupyter-widgets/controls",
      "_model_module_version": "1.5.0",
      "_model_name": "DescriptionStyleModel",
      "_view_count": null,
      "_view_module": "@jupyter-widgets/base",
      "_view_module_version": "1.2.0",
      "_view_name": "StyleView",
      "description_width": ""
     }
    },
    "a952f53090c249499030da313cbc14d2": {
     "model_module": "@jupyter-widgets/controls",
     "model_name": "FloatProgressModel",
     "state": {
      "_dom_classes": [],
      "_model_module": "@jupyter-widgets/controls",
      "_model_module_version": "1.5.0",
      "_model_name": "FloatProgressModel",
      "_view_count": null,
      "_view_module": "@jupyter-widgets/controls",
      "_view_module_version": "1.5.0",
      "_view_name": "ProgressView",
      "bar_style": "success",
      "description": "Feature Extraction (Batch): 100%",
      "description_tooltip": null,
      "layout": "IPY_MODEL_44bbc061776a42a09caa8fe968927a83",
      "max": 15,
      "min": 0,
      "orientation": "horizontal",
      "style": "IPY_MODEL_5907bf765f4b440e900e647ce2b6a2ca",
      "value": 15
     }
    },
    "aa4b0989a0334fc8aeb21e9cb8017f4f": {
     "model_module": "@jupyter-widgets/base",
     "model_name": "LayoutModel",
     "state": {
      "_model_module": "@jupyter-widgets/base",
      "_model_module_version": "1.2.0",
      "_model_name": "LayoutModel",
      "_view_count": null,
      "_view_module": "@jupyter-widgets/base",
      "_view_module_version": "1.2.0",
      "_view_name": "LayoutView",
      "align_content": null,
      "align_items": null,
      "align_self": null,
      "border": null,
      "bottom": null,
      "display": null,
      "flex": null,
      "flex_flow": null,
      "grid_area": null,
      "grid_auto_columns": null,
      "grid_auto_flow": null,
      "grid_auto_rows": null,
      "grid_column": null,
      "grid_gap": null,
      "grid_row": null,
      "grid_template_areas": null,
      "grid_template_columns": null,
      "grid_template_rows": null,
      "height": null,
      "justify_content": null,
      "justify_items": null,
      "left": null,
      "margin": null,
      "max_height": null,
      "max_width": null,
      "min_height": null,
      "min_width": null,
      "object_fit": null,
      "object_position": null,
      "order": null,
      "overflow": null,
      "overflow_x": null,
      "overflow_y": null,
      "padding": null,
      "right": null,
      "top": null,
      "visibility": null,
      "width": null
     }
    },
    "b60b2bc8a0f347018e0c429ebad5aeb2": {
     "model_module": "@jupyter-widgets/controls",
     "model_name": "HBoxModel",
     "state": {
      "_dom_classes": [],
      "_model_module": "@jupyter-widgets/controls",
      "_model_module_version": "1.5.0",
      "_model_name": "HBoxModel",
      "_view_count": null,
      "_view_module": "@jupyter-widgets/controls",
      "_view_module_version": "1.5.0",
      "_view_name": "HBoxView",
      "box_style": "",
      "children": [
       "IPY_MODEL_335f16ff0a974b7b8666dda541a12020",
       "IPY_MODEL_8401fcdb88f14bb28a80dc119f28c2b2"
      ],
      "layout": "IPY_MODEL_e5b3c0811bee456cba0d656d0f7bb30e"
     }
    },
    "be4128cad94c45b49aa6eb44923dcd06": {
     "model_module": "@jupyter-widgets/controls",
     "model_name": "HBoxModel",
     "state": {
      "_dom_classes": [],
      "_model_module": "@jupyter-widgets/controls",
      "_model_module_version": "1.5.0",
      "_model_name": "HBoxModel",
      "_view_count": null,
      "_view_module": "@jupyter-widgets/controls",
      "_view_module_version": "1.5.0",
      "_view_name": "HBoxView",
      "box_style": "",
      "children": [
       "IPY_MODEL_a952f53090c249499030da313cbc14d2",
       "IPY_MODEL_e25d0fedb8b14581b525c5591f165cc7"
      ],
      "layout": "IPY_MODEL_182416f2a8224c4aa6dd027b08d88190"
     }
    },
    "e25d0fedb8b14581b525c5591f165cc7": {
     "model_module": "@jupyter-widgets/controls",
     "model_name": "HTMLModel",
     "state": {
      "_dom_classes": [],
      "_model_module": "@jupyter-widgets/controls",
      "_model_module_version": "1.5.0",
      "_model_name": "HTMLModel",
      "_view_count": null,
      "_view_module": "@jupyter-widgets/controls",
      "_view_module_version": "1.5.0",
      "_view_name": "HTMLView",
      "description": "",
      "description_tooltip": null,
      "layout": "IPY_MODEL_6d3437dabd934921a1a1891f91f87634",
      "placeholder": "​",
      "style": "IPY_MODEL_8c63280d80ed415594c54f97c9c9be23",
      "value": " 15/15 [00:43&lt;00:00,  2.91s/it]"
     }
    },
    "e5b3c0811bee456cba0d656d0f7bb30e": {
     "model_module": "@jupyter-widgets/base",
     "model_name": "LayoutModel",
     "state": {
      "_model_module": "@jupyter-widgets/base",
      "_model_module_version": "1.2.0",
      "_model_name": "LayoutModel",
      "_view_count": null,
      "_view_module": "@jupyter-widgets/base",
      "_view_module_version": "1.2.0",
      "_view_name": "LayoutView",
      "align_content": null,
      "align_items": null,
      "align_self": null,
      "border": null,
      "bottom": null,
      "display": null,
      "flex": null,
      "flex_flow": null,
      "grid_area": null,
      "grid_auto_columns": null,
      "grid_auto_flow": null,
      "grid_auto_rows": null,
      "grid_column": null,
      "grid_gap": null,
      "grid_row": null,
      "grid_template_areas": null,
      "grid_template_columns": null,
      "grid_template_rows": null,
      "height": null,
      "justify_content": null,
      "justify_items": null,
      "left": null,
      "margin": null,
      "max_height": null,
      "max_width": null,
      "min_height": null,
      "min_width": null,
      "object_fit": null,
      "object_position": null,
      "order": null,
      "overflow": null,
      "overflow_x": null,
      "overflow_y": null,
      "padding": null,
      "right": null,
      "top": null,
      "visibility": null,
      "width": null
     }
    }
   }
  }
 },
 "nbformat": 4,
 "nbformat_minor": 1
}
